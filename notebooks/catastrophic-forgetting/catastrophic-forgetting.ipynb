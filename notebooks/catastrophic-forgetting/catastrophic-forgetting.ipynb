{
 "cells": [
  {
   "cell_type": "markdown",
   "metadata": {},
   "source": [
    "# Catastrophic Forgetting\n",
    "\n",
    "## Introduction\n",
    "\n",
    "The phenomenon of catastrophic forgetting, or catastrophic interference, was first observed by McCloskey and Cohen (1989). It is especially salient in online learning, where training data is fed sequentially to a machine learning model for training. In this notebook, we will explore the effects of catastrophic interference in the PES learning rule on MNIST data."
   ]
  },
  {
   "cell_type": "code",
   "execution_count": 2,
   "metadata": {},
   "outputs": [],
   "source": [
    "import nengo\n",
    "import nengo_dl\n",
    "import numpy as np\n",
    "import tensorflow as tf\n",
    "from PIL import Image\n",
    "from nengo_extras.gui import image_display_function\n",
    "from nengo_extras.vision import Gabor, Mask\n",
    "from nengo_extras.data import one_hot_from_labels\n",
    "from nengo.utils.filter_design import cont2discrete\n",
    "from nengo_gui.ipython import IPythonViz\n"
   ]
  },
  {
   "cell_type": "markdown",
   "metadata": {},
   "source": [
    "## MNIST Digit Recognition\n",
    "\n",
    "We will experiment on catastrophic interference with MNIST."
   ]
  },
  {
   "cell_type": "code",
   "execution_count": 3,
   "metadata": {},
   "outputs": [],
   "source": [
    "(X_train, y_train), (X_test, y_test) = tf.keras.datasets.mnist.load_data()\n",
    "n_train, height, width = X_train.shape\n",
    "n_test = len(y_test)\n",
    "n_classes = len(np.unique(y_train))"
   ]
  },
  {
   "cell_type": "code",
   "execution_count": 4,
   "metadata": {},
   "outputs": [
    {
     "data": {
      "image/png": "[encoded data removed]",
      "text/plain": [
       "<PIL.Image.Image image mode=L size=140x140>"
      ]
     },
     "metadata": {},
     "output_type": "display_data"
    },
    {
     "name": "stdout",
     "output_type": "stream",
     "text": [
      "Label: 5\n",
      "Max Pixel Val: 255\n",
      "Min Pixel Val: 0\n"
     ]
    }
   ],
   "source": [
    "Image.fromarray(X_train[0]) \\\n",
    "    .resize((height * 5, width * 5)) \\\n",
    "    .show()\n",
    "\n",
    "print(f\"Label: {y_train[0]}\")\n",
    "print(f\"Max Pixel Val: {np.max(X_train[0])}\")\n",
    "print(f\"Min Pixel Val: {np.min(X_train[0])}\")"
   ]
  },
  {
   "cell_type": "code",
   "execution_count": 5,
   "metadata": {},
   "outputs": [],
   "source": [
    "# Batch preprocess the data into unit vector.\n",
    "def preprocess(X):\n",
    "    X = X.reshape(len(X), -1)\n",
    "    X = X - X.mean(axis=1, keepdims=True)\n",
    "    return X / np.linalg.norm(X, axis=1, keepdims=True)"
   ]
  },
  {
   "cell_type": "code",
   "execution_count": 6,
   "metadata": {},
   "outputs": [],
   "source": [
    "# Preprocessing and One hot encode\n",
    "X_train = preprocess(X_train)\n",
    "y_train = one_hot_from_labels(y_train)\n",
    "X_test = preprocess(X_test)\n",
    "y_test = one_hot_from_labels(y_test)"
   ]
  },
  {
   "cell_type": "markdown",
   "metadata": {},
   "source": [
    "## Neural Network\n",
    "\n",
    "We build a 2 ensemble neural network with Nengo, and set the learning with PES learning rule."
   ]
  },
  {
   "cell_type": "code",
   "execution_count": 7,
   "metadata": {},
   "outputs": [],
   "source": [
    "# Some network configuration hyperparameters\n",
    "input_display_time = 1\n",
    "n_neurons = 5000"
   ]
  },
  {
   "cell_type": "markdown",
   "metadata": {},
   "source": [
    "Neural networks in Nengo are fixed-encoding networks, whereby the encoders are fixed to a certain randomly generated value. Previous research has shown that Gabor filters best extracts the features of an image. Unlike in deep learning, where these Gabor filters are derived from backpropagation, we can only generate these Gabor filters randomly because backpropagation cannot be used in fixed-encoding SNN."
   ]
  },
  {
   "cell_type": "code",
   "execution_count": 8,
   "metadata": {},
   "outputs": [],
   "source": [
    "# Generate the encoders for the neural ensemble\n",
    "gabor_size = (11, 11)\n",
    "# Set the rng state (using a fixed seed that works)\n",
    "rng = np.random.RandomState(9)\n",
    "encoders = Gabor().generate(n_neurons, gabor_size, rng=rng)\n",
    "encoders = Mask((height, width)).populate(encoders, rng=rng, flatten=True)"
   ]
  },
  {
   "cell_type": "code",
   "execution_count": 9,
   "metadata": {},
   "outputs": [
    {
     "data": {
      "text/plain": [
       "<matplotlib.image.AxesImage at 0x7fbe75b09bd0>"
      ]
     },
     "execution_count": 9,
     "metadata": {},
     "output_type": "execute_result"
    },
    {
     "data": {
      "image/png": "[encoded data removed]",
      "text/plain": [
       "<Figure size 432x288 with 1 Axes>"
      ]
     },
     "metadata": {
      "needs_background": "light"
     },
     "output_type": "display_data"
    }
   ],
   "source": [
    "from matplotlib import pyplot as plt\n",
    "plt.imshow(encoders[1].reshape(28,28), cmap=\"gray\")"
   ]
  },
  {
   "cell_type": "markdown",
   "metadata": {},
   "source": [
    "Below is the nengo model rendered as an interactive demo in Nengo GUI. You can see the effects of catastrophic forgetting when you inhibit the learning by moving the slider of inhibitor to 1 (Wait for 30s for the simulation to run and learn)"
   ]
  },
  {
   "cell_type": "code",
   "execution_count": 10,
   "metadata": {
    "scrolled": false
   },
   "outputs": [
    {
     "data": {
      "text/html": [
       "\n",
       "            <script type=\"text/javascript\" id=\"9e02dd47-f071-4c77-bf31-5fb626b6e890\">\n",
       "            {\n",
       "                let req = new XMLHttpRequest();\n",
       "                req.addEventListener(\"load\", function() {\n",
       "                    if (this.status != 200 && this.response != 'OK') {\n",
       "                        let p = document.getElementById('9e02dd47-f071-4c77-bf31-5fb626b6e890').parentNode;\n",
       "                        p.innerHTML +=\n",
       "                            'The nengo_gui.jupyter notebook server ' +\n",
       "                            'extension was not loaded. Please activate it ' +\n",
       "                            'with the following command:' +\n",
       "                            '<pre>jupyter serverextension enable ' +\n",
       "                            'nengo_gui.jupyter</pre>';\n",
       "                        p.classList.add('output_stderr');\n",
       "                    }\n",
       "                });\n",
       "                req.open('GET', './nengo/check', true);\n",
       "                req.send();\n",
       "            }\n",
       "            </script>\n",
       "        "
      ],
      "text/plain": [
       "<IPython.core.display.HTML object>"
      ]
     },
     "metadata": {},
     "output_type": "display_data"
    },
    {
     "data": {
      "application/vdom.v1+json": {
       "attributes": {
        "id": "96e6e448-4c1d-49bf-9d6b-9e970a7e7cb7"
       },
       "children": [
        {
         "attributes": {
          "allowfullscreen": "allowfullscreen",
          "class": "cell",
          "frameborder": "0",
          "height": "600",
          "src": "./nengo/35945/?token=99836fb75c8e74b36e1f6617d57d00840eb19125d49d456e",
          "style": {
           "border": "1px solid #eee",
           "boxSizing": "border-box"
          },
          "width": "100%"
         },
         "tagName": "iframe"
        }
       ],
       "tagName": "div"
      },
      "text/html": [
       "\n",
       "                <div id=\"df6b55f6-4fa8-4979-821f-bf131759ad4d\">\n",
       "                    <iframe\n",
       "                        src=\"./nengo/35945/?token=99836fb75c8e74b36e1f6617d57d00840eb19125d49d456e\"\n",
       "                        width=\"100%\"\n",
       "                        height=\"600\"\n",
       "                        frameborder=\"0\"\n",
       "                        class=\"cell\"\n",
       "                        style=\"border: 1px solid #eee; box-sizing: border-box;\"\n",
       "                        allowfullscreen></iframe>\n",
       "                </div>\n",
       "            "
      ]
     },
     "metadata": {},
     "output_type": "display_data"
    }
   ],
   "source": [
    "with nengo.Network(seed=3) as model:\n",
    "\n",
    "    input_node = nengo.Node(\n",
    "        nengo.processes.PresentInput(X_train, input_display_time),\n",
    "        label=\"Input\"\n",
    "    )\n",
    "\n",
    "    # Pre-synaptic ensemble\n",
    "    pre_ens = nengo.Ensemble(\n",
    "        n_neurons=n_neurons,\n",
    "        dimensions=height * width,\n",
    "        radius=1\n",
    "    )\n",
    "    \n",
    "    nengo.Connection(input_node, pre_ens)\n",
    "    \n",
    "    post_ens = nengo.Ensemble(\n",
    "        n_neurons=30*n_classes,\n",
    "        dimensions=n_classes,\n",
    "        radius=5\n",
    "    )\n",
    "    \n",
    "    # Connection with synapse weight to be learned by PES\n",
    "    # Weights are randomly initialized\n",
    "    conn = nengo.Connection(\n",
    "        pre_ens, post_ens,\n",
    "        learning_rule_type=nengo.PES(),\n",
    "        transform=np.random.rand(n_classes, width*height)\n",
    "    )\n",
    "    \n",
    "    # Error signal representation\n",
    "    error = nengo.Ensemble(\n",
    "        n_neurons=30 * n_classes,\n",
    "        dimensions=n_classes,\n",
    "        radius=5\n",
    "    )\n",
    "    \n",
    "    gt_node = nengo.Node(\n",
    "        nengo.processes.PresentInput(y_train, input_display_time),\n",
    "        label=\"Ground Truth\"\n",
    "    )\n",
    "    nengo.Connection(post_ens, error)\n",
    "    nengo.Connection(gt_node, error, transform=-1)\n",
    "    nengo.Connection(error, conn.learning_rule)\n",
    "    \n",
    "    # Input image display (for nengo_gui)\n",
    "    image_shape = (1, 28, 28)\n",
    "    display_func = image_display_function(image_shape, offset=1, scale=128)\n",
    "    display_node = nengo.Node(display_func, size_in=input_node.size_out)\n",
    "    nengo.Connection(input_node, display_node, synapse=None)\n",
    "    \n",
    "    # Error inhibition control\n",
    "    inhibitor = nengo.Node([0])\n",
    "    nengo.Connection(\n",
    "        inhibitor, error.neurons, \n",
    "        transform=-100*np.ones((error.n_neurons, 1))\n",
    "    )\n",
    "    \n",
    "\n",
    "# Network visualization\n",
    "IPythonViz(model)"
   ]
  },
  {
   "cell_type": "markdown",
   "metadata": {},
   "source": [
    "You should see that once inhibitor is turned on, the neural network stops learning and just predicts everything as the predicted label of the last seen sample. This means that the last seen sample before inhibition has turned on has caused catastrophic forgetting in the synapse weights between pre-synaptic and post-synaptic neuron ensemble. This needs to be mitigated."
   ]
  },
  {
   "cell_type": "markdown",
   "metadata": {},
   "source": [
    "## In Offline Learning\n",
    "\n",
    "Of course, the phenomenon of catastrophic forgetting is also visible in offline learning. In the next experiment, we use a LeNet5 built with PyTorch to simulate this behavior."
   ]
  },
  {
   "cell_type": "code",
   "execution_count": 18,
   "metadata": {},
   "outputs": [],
   "source": [
    "import torch\n",
    "import torch.nn as nn\n",
    "from torch.utils.data import Dataset\n",
    "from torchvision import transforms\n",
    "from tqdm.notebook import tqdm"
   ]
  },
  {
   "cell_type": "code",
   "execution_count": 12,
   "metadata": {},
   "outputs": [],
   "source": [
    "class LeNet(nn.Module):\n",
    "    \n",
    "    def __init__(self):\n",
    "        super(LeNet, self).__init__()\n",
    "        self.convnet = nn.Sequential(\n",
    "            nn.Conv2d(in_channels=1, out_channels=6, kernel_size=5),\n",
    "            nn.ReLU(inplace=True),\n",
    "            nn.AvgPool2d(kernel_size=2, stride=2),\n",
    "            nn.Conv2d(in_channels=6, out_channels=16, kernel_size=5),\n",
    "            nn.ReLU(inplace=True),\n",
    "            nn.AvgPool2d(kernel_size=2, stride=2),\n",
    "            nn.Conv2d(in_channels=16, out_channels=120, kernel_size=5),\n",
    "            nn.ReLU(inplace=True),\n",
    "        )\n",
    "        \n",
    "        self.fc1 = nn.Linear(in_features=120, out_features=84)\n",
    "        self.fc2 = nn.Linear(in_features=84, out_features=10)\n",
    "        \n",
    "    def forward(self, img):\n",
    "        X = self.convnet(img)\n",
    "        X = torch.flatten(X, start_dim=1)\n",
    "        X = self.fc1(X)\n",
    "        X = nn.functional.relu(X)\n",
    "        X = self.fc2(X)\n",
    "        return X"
   ]
  },
  {
   "cell_type": "markdown",
   "metadata": {},
   "source": [
    "The neural network will still train on a one hot vector of 10 classes (0 - 9), but we are going to not let it see the number 9 ever during initial training. Thus in PyTorch, we will have to create our custom dataset from MNIST with the filter."
   ]
  },
  {
   "cell_type": "code",
   "execution_count": 13,
   "metadata": {},
   "outputs": [],
   "source": [
    "class IncompleteMNIST(Dataset):\n",
    "    \"\"\" Class for incomplete MNIST \"\"\"\n",
    "    \n",
    "    def __init__(self, holdout=True, exclude=9, train=True):\n",
    "        \"\"\"\n",
    "        :param holdout: mode of instantiation of this dataset. If holdout=True,\n",
    "            data of a certain label will be excluded from training. If holdout=False,\n",
    "            only the excluded data will be trained.\n",
    "        :param exclude: label of data to be excluded during holdout.\n",
    "        :param train: Set training or testing mode.\n",
    "        \"\"\"\n",
    "        if train:\n",
    "            (imgs, labels), _ = tf.keras.datasets.mnist.load_data()\n",
    "        else:\n",
    "            _, (imgs, labels) = tf.keras.datasets.mnist.load_data()\n",
    "            \n",
    "        if holdout:\n",
    "            self.imgs = imgs[labels != exclude]\n",
    "            self.labels = labels[labels != exclude]\n",
    "        else:\n",
    "            self.imgs = imgs[labels == exclude]\n",
    "            self.labels = labels[labels == exclude]\n",
    "        \n",
    "        # Padding because LeNet5 requires 32 x 32 x 1 images as inputs\n",
    "        self.transform = transforms.Compose([\n",
    "            transforms.ToTensor(),\n",
    "            transforms.Pad(2)\n",
    "        ])\n",
    "            \n",
    "    def __len__(self):\n",
    "        return len(self.labels)\n",
    "    \n",
    "    def __getitem__(self, idx):\n",
    "        return self.transform(self.imgs[idx]), self.labels[idx]\n",
    "            "
   ]
  },
  {
   "cell_type": "code",
   "execution_count": 14,
   "metadata": {},
   "outputs": [
    {
     "name": "stdout",
     "output_type": "stream",
     "text": [
      "Image size: torch.Size([1, 32, 32])\n",
      "label: 5\n",
      "54051 training data\n",
      "8991 validation data\n"
     ]
    }
   ],
   "source": [
    "trainset = IncompleteMNIST()\n",
    "valset = IncompleteMNIST(train=False)\n",
    "img, label = trainset[0]\n",
    "print(f\"Image size: {img.shape}\")\n",
    "print(f\"label: {label}\")\n",
    "print(f\"{len(trainset)} training data\")\n",
    "print(f\"{len(valset)} validation data\")"
   ]
  },
  {
   "cell_type": "markdown",
   "metadata": {},
   "source": [
    "Now, we shall perform training on the data that was held out."
   ]
  },
  {
   "cell_type": "code",
   "execution_count": 15,
   "metadata": {},
   "outputs": [],
   "source": [
    "# Setup training\n",
    "model = LeNet()\n",
    "criterion = torch.nn.CrossEntropyLoss()\n",
    "optimizer = torch.optim.SGD(model.parameters(), lr=0.001, momentum=0.9)\n",
    "\n",
    "train_loader = torch.utils.data.DataLoader(\n",
    "                    trainset, \n",
    "                    batch_size=4, \n",
    "                    shuffle=True,\n",
    "                    num_workers=2\n",
    "                )\n",
    "\n",
    "val_loader = torch.utils.data.DataLoader(\n",
    "                    valset, \n",
    "                    batch_size=4, \n",
    "                    shuffle=True,\n",
    "                    num_workers=2\n",
    "                )"
   ]
  },
  {
   "cell_type": "code",
   "execution_count": 17,
   "metadata": {},
   "outputs": [],
   "source": [
    "def train(model):\n",
    "    running_loss = 0.0\n",
    "    last_loss = 0.0\n",
    "    \n",
    "    for i, data in enumerate(train_loader):\n",
    "        imgs, labels = data\n",
    "        \n",
    "        optimizer.zero_grad()\n",
    "        \n",
    "        # Forward pass\n",
    "        outputs = model(imgs)\n",
    "        \n",
    "        # Compute loss and backpropagate error gradients\n",
    "        loss = criterion(outputs, labels)\n",
    "        loss.backward()\n",
    "        \n",
    "        # Gradient descent\n",
    "        optimizer.step()\n",
    "        \n",
    "        # Gather running loss\n",
    "        running_loss += loss.item()\n",
    "        \n",
    "        # Calculate avg loss across 1000 batches\n",
    "        if i % 1000 == 999:\n",
    "            last_loss = running_loss / 1000\n",
    "            running_loss = 0.0\n",
    "        \n",
    "    return last_loss"
   ]
  },
  {
   "cell_type": "code",
   "execution_count": 19,
   "metadata": {},
   "outputs": [
    {
     "data": {
      "application/vnd.jupyter.widget-view+json": {
       "model_id": "cfff90fc35724270ac89ab43f70c720b",
       "version_major": 2,
       "version_minor": 0
      },
      "text/plain": [
       "  0%|          | 0/40 [00:00<?, ?it/s]"
      ]
     },
     "metadata": {},
     "output_type": "display_data"
    },
    {
     "ename": "KeyboardInterrupt",
     "evalue": "",
     "output_type": "error",
     "traceback": [
      "\u001b[0;31m---------------------------------------------------------------------------\u001b[0m",
      "\u001b[0;31mKeyboardInterrupt\u001b[0m                         Traceback (most recent call last)",
      "Input \u001b[0;32mIn [19]\u001b[0m, in \u001b[0;36m<cell line: 6>\u001b[0;34m()\u001b[0m\n\u001b[1;32m      7\u001b[0m model\u001b[38;5;241m.\u001b[39mtrain(\u001b[38;5;28;01mTrue\u001b[39;00m)\n\u001b[1;32m      9\u001b[0m \u001b[38;5;66;03m# Inner training loop\u001b[39;00m\n\u001b[0;32m---> 10\u001b[0m avg_loss \u001b[38;5;241m=\u001b[39m \u001b[43mtrain\u001b[49m\u001b[43m(\u001b[49m\u001b[43mmodel\u001b[49m\u001b[43m)\u001b[49m\n\u001b[1;32m     12\u001b[0m \u001b[38;5;66;03m# Turn off training for reporting\u001b[39;00m\n\u001b[1;32m     13\u001b[0m model\u001b[38;5;241m.\u001b[39mtrain(\u001b[38;5;28;01mFalse\u001b[39;00m)\n",
      "Input \u001b[0;32mIn [17]\u001b[0m, in \u001b[0;36mtrain\u001b[0;34m(model)\u001b[0m\n\u001b[1;32m     13\u001b[0m \u001b[38;5;66;03m# Compute loss and backpropagate error gradients\u001b[39;00m\n\u001b[1;32m     14\u001b[0m loss \u001b[38;5;241m=\u001b[39m criterion(outputs, labels)\n\u001b[0;32m---> 15\u001b[0m \u001b[43mloss\u001b[49m\u001b[38;5;241;43m.\u001b[39;49m\u001b[43mbackward\u001b[49m\u001b[43m(\u001b[49m\u001b[43m)\u001b[49m\n\u001b[1;32m     17\u001b[0m \u001b[38;5;66;03m# Gradient descent\u001b[39;00m\n\u001b[1;32m     18\u001b[0m optimizer\u001b[38;5;241m.\u001b[39mstep()\n",
      "File \u001b[0;32m~/miniconda3/envs/deeplearning/lib/python3.10/site-packages/torch/_tensor.py:396\u001b[0m, in \u001b[0;36mTensor.backward\u001b[0;34m(self, gradient, retain_graph, create_graph, inputs)\u001b[0m\n\u001b[1;32m    387\u001b[0m \u001b[38;5;28;01mif\u001b[39;00m has_torch_function_unary(\u001b[38;5;28mself\u001b[39m):\n\u001b[1;32m    388\u001b[0m     \u001b[38;5;28;01mreturn\u001b[39;00m handle_torch_function(\n\u001b[1;32m    389\u001b[0m         Tensor\u001b[38;5;241m.\u001b[39mbackward,\n\u001b[1;32m    390\u001b[0m         (\u001b[38;5;28mself\u001b[39m,),\n\u001b[0;32m   (...)\u001b[0m\n\u001b[1;32m    394\u001b[0m         create_graph\u001b[38;5;241m=\u001b[39mcreate_graph,\n\u001b[1;32m    395\u001b[0m         inputs\u001b[38;5;241m=\u001b[39minputs)\n\u001b[0;32m--> 396\u001b[0m \u001b[43mtorch\u001b[49m\u001b[38;5;241;43m.\u001b[39;49m\u001b[43mautograd\u001b[49m\u001b[38;5;241;43m.\u001b[39;49m\u001b[43mbackward\u001b[49m\u001b[43m(\u001b[49m\u001b[38;5;28;43mself\u001b[39;49m\u001b[43m,\u001b[49m\u001b[43m \u001b[49m\u001b[43mgradient\u001b[49m\u001b[43m,\u001b[49m\u001b[43m \u001b[49m\u001b[43mretain_graph\u001b[49m\u001b[43m,\u001b[49m\u001b[43m \u001b[49m\u001b[43mcreate_graph\u001b[49m\u001b[43m,\u001b[49m\u001b[43m \u001b[49m\u001b[43minputs\u001b[49m\u001b[38;5;241;43m=\u001b[39;49m\u001b[43minputs\u001b[49m\u001b[43m)\u001b[49m\n",
      "File \u001b[0;32m~/miniconda3/envs/deeplearning/lib/python3.10/site-packages/torch/autograd/__init__.py:173\u001b[0m, in \u001b[0;36mbackward\u001b[0;34m(tensors, grad_tensors, retain_graph, create_graph, grad_variables, inputs)\u001b[0m\n\u001b[1;32m    168\u001b[0m     retain_graph \u001b[38;5;241m=\u001b[39m create_graph\n\u001b[1;32m    170\u001b[0m \u001b[38;5;66;03m# The reason we repeat same the comment below is that\u001b[39;00m\n\u001b[1;32m    171\u001b[0m \u001b[38;5;66;03m# some Python versions print out the first line of a multi-line function\u001b[39;00m\n\u001b[1;32m    172\u001b[0m \u001b[38;5;66;03m# calls in the traceback and some print out the last line\u001b[39;00m\n\u001b[0;32m--> 173\u001b[0m \u001b[43mVariable\u001b[49m\u001b[38;5;241;43m.\u001b[39;49m\u001b[43m_execution_engine\u001b[49m\u001b[38;5;241;43m.\u001b[39;49m\u001b[43mrun_backward\u001b[49m\u001b[43m(\u001b[49m\u001b[43m  \u001b[49m\u001b[38;5;66;43;03m# Calls into the C++ engine to run the backward pass\u001b[39;49;00m\n\u001b[1;32m    174\u001b[0m \u001b[43m    \u001b[49m\u001b[43mtensors\u001b[49m\u001b[43m,\u001b[49m\u001b[43m \u001b[49m\u001b[43mgrad_tensors_\u001b[49m\u001b[43m,\u001b[49m\u001b[43m \u001b[49m\u001b[43mretain_graph\u001b[49m\u001b[43m,\u001b[49m\u001b[43m \u001b[49m\u001b[43mcreate_graph\u001b[49m\u001b[43m,\u001b[49m\u001b[43m \u001b[49m\u001b[43minputs\u001b[49m\u001b[43m,\u001b[49m\n\u001b[1;32m    175\u001b[0m \u001b[43m    \u001b[49m\u001b[43mallow_unreachable\u001b[49m\u001b[38;5;241;43m=\u001b[39;49m\u001b[38;5;28;43;01mTrue\u001b[39;49;00m\u001b[43m,\u001b[49m\u001b[43m \u001b[49m\u001b[43maccumulate_grad\u001b[49m\u001b[38;5;241;43m=\u001b[39;49m\u001b[38;5;28;43;01mTrue\u001b[39;49;00m\u001b[43m)\u001b[49m\n",
      "\u001b[0;31mKeyboardInterrupt\u001b[0m: "
     ]
    }
   ],
   "source": [
    "# Epoch Training\n",
    "num_epochs = 40\n",
    "\n",
    "best_vloss = 1_000_000\n",
    "\n",
    "for epoch in tqdm(range(num_epochs)):\n",
    "    model.train(True)\n",
    "    \n",
    "    # Inner training loop\n",
    "    avg_loss = train(model)\n",
    "    \n",
    "    # Turn off training for reporting\n",
    "    model.train(False)\n",
    "    \n",
    "    running_vloss = 0.0\n",
    "    for i, vdata in enumerate(val_loader):\n",
    "        v_inputs, v_labels = vdata\n",
    "        v_outputs = model(v_inputs)\n",
    "        v_loss = criterion(v_outputs, v_labels)\n",
    "        running_vloss += v_loss\n",
    "        \n",
    "    avg_vloss = running_vloss / (i + 1)\n",
    "    tqdm.write(f\"Train loss: {avg_loss}, Validation loss: {avg_vloss}\")"
   ]
  },
  {
   "cell_type": "markdown",
   "metadata": {},
   "source": [
    "## Discussion\n",
    "\n",
    "We have seen the effects of catastrophic forgetting on neural networks in both a sequential learning scenario and a offline batch learning scenario. After seeing that such a phenomenon happens, we can move to try and resolve this problem."
   ]
  },
  {
   "cell_type": "markdown",
   "metadata": {},
   "source": [
    "## Legendre Memory Units\n",
    "\n",
    "LMUs is a type of recurrent neural network cell that aims to implement a perfect delay. It was first published by Volker, Kajic and Eliasmith (NeurIPs 2019) and has been shown to beat LSTMs on psMNIST dataset.\n",
    "\n",
    "<img src=\"https://i.imgur.com/IJGUVg6.png\" alt=\"drawing\" width=\"500\"/>"
   ]
  },
  {
   "cell_type": "code",
   "execution_count": 17,
   "metadata": {},
   "outputs": [],
   "source": [
    "class LMUCell(nengo.Network):\n",
    "    \"\"\" Legendre Memory Unit \"\"\"\n",
    "    \n",
    "    def __init__(self, units, order, theta, input_d, **kwargs):\n",
    "        \"\"\" Constructor for LMU\n",
    "        \n",
    "        :param units:\n",
    "        :param order: The order of Lengendre Polynomials to use.\n",
    "        :param theta: Delay amount defining the sliding window from [t-theta, t]. \n",
    "                Can also be interpreted as length of time window.\n",
    "        :param input_d: Dimension of input signal X\n",
    "        \"\"\"\n",
    "        super().__init__(**kwargs)\n",
    "        \n",
    "        # Compute the analytically derived weight matrices used in LMU\n",
    "        # These are determined statistically based on the theta/order parameters.\n",
    "        Q = np.arange(order, dtype=np.float64)\n",
    "        R = (2 * Q + 1)[:, None] / theta\n",
    "        j, i = np.mesgrid(Q, Q)\n",
    "        \n",
    "        A = np.where(i < j, -1, (-1, 0) ** (i - j + 1) * R)\n",
    "        B = (-1.0) ** Q[:, None] * R\n",
    "        C = np.ones((1, order))\n",
    "        D = np.zeros((1,))\n",
    "        \n",
    "        A, B, _, _, _ = cont2discrete((A, B, C, D), dt=1.0, method=\"zoh\")\n",
    "        \n",
    "        with self:\n",
    "            nengo_dl.configure_settings(trainable=None)\n",
    "            \n",
    "            # Create objects corresponding to x/u/m/h variables of LMU cell\n",
    "            # There is a bit of notational change compared to X and U in NEF\n",
    "            # self.u is the input as seen by the dynamical system, self.m is the state from previous time,\n",
    "            # self.x is our actual data input.\n",
    "            self.x = nengo.Node(size_in=input_d)\n",
    "            self.u = nengo.Node(size_in=1)\n",
    "            self.m = nengo.Node(size_in=order)\n",
    "            self.h = nengo_dl.TensorNode(tf.nn.tanh, shape_in(units,), pass_time=False)\n",
    "            \n",
    "            # Compute u_t in the LMU cell. We have removed e_h and e_m as they are not needed in\n",
    "            # the psMNIST task. e_x is trainable, but initialized to np.ones instead of nengo_dl.dists.Glorot()\n",
    "            nengo.Connection(\n",
    "                self.x, self.u, transform=np.ones((1, input_d), synapse=None)\n",
    "            )\n",
    "            \n",
    "            # Compute m_t\n",
    "            # In this implementation we'll make A and B non-trainable, but they\n",
    "            # can also be optimized in the same way as other parameters. Note\n",
    "            # that setting synapse=0 (versus synapse=None) adds a one-timestep\n",
    "            # delay, so we can think of any connections with synapse=0 as representing\n",
    "            # value_{t-1}\n",
    "            conn_A = nengo.Connection(self.m, self.m, transform=A, synapse=0)\n",
    "            self.config[conn_A].trainable = False\n",
    "            conn_B = nengo.Connection(self.u, self.m, transform=B, synapse=None)\n",
    "            self.config[conn_B].trainable = False\n",
    "            \n",
    "            # Compute h_t\n",
    "            nengo.Connection(\n",
    "                # This is the W_x connection\n",
    "                self.x, self.h, transform=nengo_dl.dists.Glorot(), synapse=None\n",
    "            )\n",
    "            nengo.Connection(\n",
    "                # This is the W_h connection\n",
    "                self.h, self.h, transform=nengo_dl.dists.Glorot(), synapse=0\n",
    "            )\n",
    "            nengo.Connection(\n",
    "                # This is the W_m connection\n",
    "                self.m, self.h, transform=nengo_dl.dists.Glorot(), synapse=None\n",
    "            )\n",
    "            "
   ]
  },
  {
   "cell_type": "markdown",
   "metadata": {},
   "source": [
    "In the above code, conn_A and conn_B "
   ]
  }
 ],
 "metadata": {
  "kernelspec": {
   "display_name": "Python 3 (ipykernel)",
   "language": "python",
   "name": "python3"
  },
  "language_info": {
   "codemirror_mode": {
    "name": "ipython",
    "version": 3
   },
   "file_extension": ".py",
   "mimetype": "text/x-python",
   "name": "python",
   "nbconvert_exporter": "python",
   "pygments_lexer": "ipython3",
   "version": "3.10.4"
  },
  "vscode": {
   "interpreter": {
    "hash": "c04d22d403ce73f48d72f35bf6f78bd964b4ebd2f32cc02a933a2ee1051d0284"
   }
  }
 },
 "nbformat": 4,
 "nbformat_minor": 2
}
