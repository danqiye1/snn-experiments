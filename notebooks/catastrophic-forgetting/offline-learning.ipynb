{
 "cells": [
  {
   "cell_type": "markdown",
   "id": "99fe06d5-f0d1-4e3d-972a-d6087b046776",
   "metadata": {},
   "source": [
    "# Catastrophic Forgetting In Offline Learning\n",
    "\n",
    "## Introduction\n",
    "\n",
    "The phenomenon of catastrophic forgetting, or catastrophic interference, was first observed by McCloskey and Cohen (1989). It is especially salient in online learning, where training data is fed sequentially to a machine learning model for training. Of course, the phenomenon of catastrophic forgetting is also visible in offline learning. In the next experiment, we use a LeNet5 built with PyTorch to simulate this behavior and see just how catastrophic this forgetting phenomenon can be."
   ]
  },
  {
   "cell_type": "code",
   "execution_count": 58,
   "id": "2faf473d-93b8-4aa6-8628-6a1ff6fd0a42",
   "metadata": {},
   "outputs": [],
   "source": [
    "import torch\n",
    "import tensorflow as tf\n",
    "import torch.nn as nn\n",
    "import numpy as np\n",
    "from torch.utils.data import Dataset, DataLoader\n",
    "from torchvision import transforms\n",
    "from tqdm.notebook import tqdm\n",
    "from matplotlib import pyplot as plt"
   ]
  },
  {
   "cell_type": "code",
   "execution_count": 2,
   "id": "87dc8f39-a9b0-4540-9ca5-16cdcf0fa6ca",
   "metadata": {},
   "outputs": [],
   "source": [
    "class LeNet(nn.Module):\n",
    "    \n",
    "    def __init__(self):\n",
    "        super(LeNet, self).__init__()\n",
    "        self.convnet = nn.Sequential(\n",
    "            nn.Conv2d(in_channels=1, out_channels=6, kernel_size=5),\n",
    "            nn.ReLU(inplace=True),\n",
    "            nn.AvgPool2d(kernel_size=2, stride=2),\n",
    "            nn.Conv2d(in_channels=6, out_channels=16, kernel_size=5),\n",
    "            nn.ReLU(inplace=True),\n",
    "            nn.AvgPool2d(kernel_size=2, stride=2),\n",
    "            nn.Conv2d(in_channels=16, out_channels=120, kernel_size=5),\n",
    "            nn.ReLU(inplace=True),\n",
    "        )\n",
    "        \n",
    "        self.fc1 = nn.Linear(in_features=120, out_features=84)\n",
    "        self.fc2 = nn.Linear(in_features=84, out_features=10)\n",
    "        \n",
    "    def forward(self, img):\n",
    "        X = self.convnet(img)\n",
    "        X = torch.flatten(X, start_dim=1)\n",
    "        X = self.fc1(X)\n",
    "        X = nn.functional.relu(X)\n",
    "        X = self.fc2(X)\n",
    "        return X"
   ]
  },
  {
   "cell_type": "markdown",
   "id": "8968c25f-624d-40f0-bbba-f1df65789413",
   "metadata": {},
   "source": [
    "The neural network will still train on a one hot vector of 10 classes (0 - 9), but we are going to not let it see the number 9 ever during initial training. Thus in PyTorch, we will have to create our custom dataset from MNIST with the filter."
   ]
  },
  {
   "cell_type": "code",
   "execution_count": 3,
   "id": "01e143ea-57e8-45b8-bd84-ce803be0940e",
   "metadata": {},
   "outputs": [],
   "source": [
    "class IncompleteMNIST(Dataset):\n",
    "    \"\"\" Class for incomplete MNIST \"\"\"\n",
    "    \n",
    "    def __init__(self, holdout=True, exclude=9, train=True):\n",
    "        \"\"\"\n",
    "        :param holdout: mode of instantiation of this dataset. If holdout=True,\n",
    "            data of a certain label will be excluded from training. If holdout=False,\n",
    "            only the excluded data will be trained.\n",
    "        :param exclude: label of data to be excluded during holdout.\n",
    "        :param train: Set training or testing mode.\n",
    "        \"\"\"\n",
    "        if train:\n",
    "            (imgs, labels), _ = tf.keras.datasets.mnist.load_data()\n",
    "        else:\n",
    "            _, (imgs, labels) = tf.keras.datasets.mnist.load_data()\n",
    "            \n",
    "        if holdout:\n",
    "            self.imgs = imgs[labels != exclude]\n",
    "            self.labels = labels[labels != exclude]\n",
    "        else:\n",
    "            self.imgs = imgs[labels == exclude]\n",
    "            self.labels = labels[labels == exclude]\n",
    "        \n",
    "        # Padding because LeNet5 requires 32 x 32 x 1 images as inputs\n",
    "        self.transform = transforms.Compose([\n",
    "            transforms.ToTensor(),\n",
    "            transforms.Pad(2)\n",
    "        ])\n",
    "            \n",
    "    def __len__(self):\n",
    "        return len(self.labels)\n",
    "    \n",
    "    def __getitem__(self, idx):\n",
    "        img = self.imgs[idx]\n",
    "        assert len(img.shape) == 2, \\\n",
    "            f\"Image shape is {img.shape} instead of (28 x 28), \\multi-image indexing is not supported.\"\n",
    "        return self.transform(img), self.labels[idx]"
   ]
  },
  {
   "cell_type": "code",
   "execution_count": 4,
   "id": "203a9c3b-c6c0-46fe-87aa-7549a9037f2f",
   "metadata": {},
   "outputs": [
    {
     "name": "stdout",
     "output_type": "stream",
     "text": [
      "Image size: torch.Size([1, 32, 32])\n",
      "label: 5\n",
      "54051 training data\n",
      "8991 validation data\n"
     ]
    }
   ],
   "source": [
    "trainset = IncompleteMNIST()\n",
    "valset = IncompleteMNIST(train=False)\n",
    "img, label = trainset[0]\n",
    "print(f\"Image size: {img.shape}\")\n",
    "print(f\"label: {label}\")\n",
    "print(f\"{len(trainset)} training data\")\n",
    "print(f\"{len(valset)} validation data\")"
   ]
  },
  {
   "cell_type": "markdown",
   "id": "5b0b15d9-9894-41fb-89d7-a7fdd1adb64f",
   "metadata": {},
   "source": [
    "Now, we shall perform training on the data that was held out. First, let's set the training hyperparameters"
   ]
  },
  {
   "cell_type": "code",
   "execution_count": 5,
   "id": "e04b8ade-1309-4f95-9d1d-78ca2d49dd9f",
   "metadata": {},
   "outputs": [],
   "source": [
    "# Setup training\n",
    "device = torch.device(\"cuda:0\" if torch.cuda.is_available() else \"cpu\")\n",
    "model = LeNet().to(device)\n",
    "criterion = torch.nn.CrossEntropyLoss()\n",
    "optimizer = torch.optim.SGD(model.parameters(), lr=0.001, momentum=0.9)\n",
    "\n",
    "train_loader = torch.utils.data.DataLoader(\n",
    "                    trainset, \n",
    "                    batch_size=64, \n",
    "                    shuffle=True,\n",
    "                    num_workers=2\n",
    "                )\n",
    "\n",
    "val_loader = torch.utils.data.DataLoader(\n",
    "                    valset, \n",
    "                    batch_size=64, \n",
    "                    shuffle=True,\n",
    "                    num_workers=2\n",
    "                )"
   ]
  },
  {
   "cell_type": "markdown",
   "id": "fc75e811-39af-40b6-b0fb-6dea03fc104e",
   "metadata": {},
   "source": [
    "Next we build the inner training loop for one epoch."
   ]
  },
  {
   "cell_type": "code",
   "execution_count": 6,
   "id": "bdcece46-c44d-4b90-adbb-922cea882291",
   "metadata": {},
   "outputs": [],
   "source": [
    "def train(model, train_loader):\n",
    "    running_loss = 0.0\n",
    "    last_loss = 0.0\n",
    "    \n",
    "    for i, data in tqdm(enumerate(train_loader), total=len(train_loader)):\n",
    "        imgs, labels = data\n",
    "        \n",
    "        optimizer.zero_grad()\n",
    "        \n",
    "        # Forward pass\n",
    "        outputs = model(imgs.to(device))\n",
    "        \n",
    "        # Compute loss and backpropagate error gradients\n",
    "        loss = criterion(outputs, labels.to(device))\n",
    "        loss.backward()\n",
    "        \n",
    "        # Gradient descent\n",
    "        optimizer.step()\n",
    "        \n",
    "        # Gather running loss\n",
    "        running_loss += loss.item()\n",
    "        \n",
    "        # Calculate avg loss across 1000 batches\n",
    "        if i % 64 == 63:\n",
    "            last_loss = running_loss / 1000\n",
    "            running_loss = 0.0\n",
    "        \n",
    "    return last_loss"
   ]
  },
  {
   "cell_type": "markdown",
   "id": "f25d0b60-ef25-4057-874e-85a6013ed859",
   "metadata": {},
   "source": [
    "We also define an accuracy function and a validation inner loop, which will be useful even for later."
   ]
  },
  {
   "cell_type": "code",
   "execution_count": 7,
   "id": "b96d8371-5b16-4bc0-b0ed-1602e821f1dc",
   "metadata": {},
   "outputs": [],
   "source": [
    "def calculate_error(logits, labels):\n",
    "    # Calculate the error rate\n",
    "    predictions = torch.argmax(torch.softmax(logits, dim=1),dim=1)\n",
    "    error_rate = (labels != predictions).sum() / len(labels)\n",
    "    return error_rate"
   ]
  },
  {
   "cell_type": "code",
   "execution_count": 8,
   "id": "80e7d48c-5e68-41e5-8340-ae0b5b19cceb",
   "metadata": {},
   "outputs": [],
   "source": [
    "def validate(model, ValDataLoader):\n",
    "    running_vloss = 0.0\n",
    "    running_error = 0.0\n",
    "    for i, vdata in enumerate(val_loader):\n",
    "        v_inputs, v_labels = vdata\n",
    "        v_outputs = model(v_inputs.to(device))\n",
    "        error = calculate_error(v_outputs, v_labels.to(device))\n",
    "        running_error += error\n",
    "        v_loss = criterion(v_outputs, v_labels.to(device))\n",
    "        running_vloss += v_loss\n",
    "        \n",
    "    avg_vloss = running_vloss / (i + 1)\n",
    "    avg_verror = running_error / (i + 1)\n",
    "    \n",
    "    return (avg_vloss, avg_verror)"
   ]
  },
  {
   "cell_type": "code",
   "execution_count": 13,
   "id": "c55318c4-c421-4af6-9d40-015212d8a81d",
   "metadata": {},
   "outputs": [
    {
     "data": {
      "application/vnd.jupyter.widget-view+json": {
       "model_id": "992efc6c686f4cc8a04b9def0032eb32",
       "version_major": 2,
       "version_minor": 0
      },
      "text/plain": [
       "  0%|          | 0/20 [00:00<?, ?it/s]"
      ]
     },
     "metadata": {},
     "output_type": "display_data"
    },
    {
     "data": {
      "application/vnd.jupyter.widget-view+json": {
       "model_id": "2c37f7c99d724ab8a5418feb20bb38ba",
       "version_major": 2,
       "version_minor": 0
      },
      "text/plain": [
       "  0%|          | 0/845 [00:00<?, ?it/s]"
      ]
     },
     "metadata": {},
     "output_type": "display_data"
    },
    {
     "name": "stdout",
     "output_type": "stream",
     "text": [
      "Train loss: 0.018,         Validation loss: 0.252,         Validation error: 0.076\n"
     ]
    },
    {
     "data": {
      "application/vnd.jupyter.widget-view+json": {
       "model_id": "ac4b0541bbd54d1188287112d5edec07",
       "version_major": 2,
       "version_minor": 0
      },
      "text/plain": [
       "  0%|          | 0/845 [00:00<?, ?it/s]"
      ]
     },
     "metadata": {},
     "output_type": "display_data"
    },
    {
     "name": "stdout",
     "output_type": "stream",
     "text": [
      "Train loss: 0.015,         Validation loss: 0.200,         Validation error: 0.061\n"
     ]
    },
    {
     "data": {
      "application/vnd.jupyter.widget-view+json": {
       "model_id": "6c090597524d4600aec649a6653802ae",
       "version_major": 2,
       "version_minor": 0
      },
      "text/plain": [
       "  0%|          | 0/845 [00:00<?, ?it/s]"
      ]
     },
     "metadata": {},
     "output_type": "display_data"
    },
    {
     "name": "stdout",
     "output_type": "stream",
     "text": [
      "Train loss: 0.011,         Validation loss: 0.178,         Validation error: 0.054\n"
     ]
    },
    {
     "data": {
      "application/vnd.jupyter.widget-view+json": {
       "model_id": "26c25244bd8a4a67b9c76e986d084514",
       "version_major": 2,
       "version_minor": 0
      },
      "text/plain": [
       "  0%|          | 0/845 [00:00<?, ?it/s]"
      ]
     },
     "metadata": {},
     "output_type": "display_data"
    },
    {
     "name": "stdout",
     "output_type": "stream",
     "text": [
      "Train loss: 0.009,         Validation loss: 0.154,         Validation error: 0.048\n"
     ]
    },
    {
     "data": {
      "application/vnd.jupyter.widget-view+json": {
       "model_id": "b4454fcee5a14d10861b963f4deeb3f1",
       "version_major": 2,
       "version_minor": 0
      },
      "text/plain": [
       "  0%|          | 0/845 [00:00<?, ?it/s]"
      ]
     },
     "metadata": {},
     "output_type": "display_data"
    },
    {
     "name": "stdout",
     "output_type": "stream",
     "text": [
      "Train loss: 0.009,         Validation loss: 0.125,         Validation error: 0.038\n"
     ]
    },
    {
     "data": {
      "application/vnd.jupyter.widget-view+json": {
       "model_id": "720107f841ab42b99f70f47a57e3c867",
       "version_major": 2,
       "version_minor": 0
      },
      "text/plain": [
       "  0%|          | 0/845 [00:00<?, ?it/s]"
      ]
     },
     "metadata": {},
     "output_type": "display_data"
    },
    {
     "name": "stdout",
     "output_type": "stream",
     "text": [
      "Train loss: 0.007,         Validation loss: 0.123,         Validation error: 0.037\n"
     ]
    },
    {
     "data": {
      "application/vnd.jupyter.widget-view+json": {
       "model_id": "6f99aa221e1e4f22a3376304df18298a",
       "version_major": 2,
       "version_minor": 0
      },
      "text/plain": [
       "  0%|          | 0/845 [00:00<?, ?it/s]"
      ]
     },
     "metadata": {},
     "output_type": "display_data"
    },
    {
     "name": "stdout",
     "output_type": "stream",
     "text": [
      "Train loss: 0.008,         Validation loss: 0.118,         Validation error: 0.035\n"
     ]
    },
    {
     "data": {
      "application/vnd.jupyter.widget-view+json": {
       "model_id": "968b9295b4924ef889c2c446dd4df285",
       "version_major": 2,
       "version_minor": 0
      },
      "text/plain": [
       "  0%|          | 0/845 [00:00<?, ?it/s]"
      ]
     },
     "metadata": {},
     "output_type": "display_data"
    },
    {
     "name": "stdout",
     "output_type": "stream",
     "text": [
      "Train loss: 0.007,         Validation loss: 0.099,         Validation error: 0.030\n"
     ]
    },
    {
     "data": {
      "application/vnd.jupyter.widget-view+json": {
       "model_id": "04f5c763f27447389a5b8f52e118c234",
       "version_major": 2,
       "version_minor": 0
      },
      "text/plain": [
       "  0%|          | 0/845 [00:00<?, ?it/s]"
      ]
     },
     "metadata": {},
     "output_type": "display_data"
    },
    {
     "name": "stdout",
     "output_type": "stream",
     "text": [
      "Train loss: 0.007,         Validation loss: 0.099,         Validation error: 0.030\n"
     ]
    },
    {
     "data": {
      "application/vnd.jupyter.widget-view+json": {
       "model_id": "83bb4d10296c445cb570b31f3b4ffa3d",
       "version_major": 2,
       "version_minor": 0
      },
      "text/plain": [
       "  0%|          | 0/845 [00:00<?, ?it/s]"
      ]
     },
     "metadata": {},
     "output_type": "display_data"
    },
    {
     "name": "stdout",
     "output_type": "stream",
     "text": [
      "Train loss: 0.006,         Validation loss: 0.095,         Validation error: 0.029\n"
     ]
    },
    {
     "data": {
      "application/vnd.jupyter.widget-view+json": {
       "model_id": "8e29ec4299174dc1b77cdbd2800d7bb4",
       "version_major": 2,
       "version_minor": 0
      },
      "text/plain": [
       "  0%|          | 0/845 [00:00<?, ?it/s]"
      ]
     },
     "metadata": {},
     "output_type": "display_data"
    },
    {
     "name": "stdout",
     "output_type": "stream",
     "text": [
      "Train loss: 0.006,         Validation loss: 0.086,         Validation error: 0.025\n"
     ]
    },
    {
     "data": {
      "application/vnd.jupyter.widget-view+json": {
       "model_id": "2f60656c34b044eeb26a620b5e1ac872",
       "version_major": 2,
       "version_minor": 0
      },
      "text/plain": [
       "  0%|          | 0/845 [00:00<?, ?it/s]"
      ]
     },
     "metadata": {},
     "output_type": "display_data"
    },
    {
     "name": "stdout",
     "output_type": "stream",
     "text": [
      "Train loss: 0.005,         Validation loss: 0.085,         Validation error: 0.025\n"
     ]
    },
    {
     "data": {
      "application/vnd.jupyter.widget-view+json": {
       "model_id": "752803bc88404c129698a20829e59940",
       "version_major": 2,
       "version_minor": 0
      },
      "text/plain": [
       "  0%|          | 0/845 [00:00<?, ?it/s]"
      ]
     },
     "metadata": {},
     "output_type": "display_data"
    },
    {
     "name": "stdout",
     "output_type": "stream",
     "text": [
      "Train loss: 0.006,         Validation loss: 0.083,         Validation error: 0.025\n"
     ]
    },
    {
     "data": {
      "application/vnd.jupyter.widget-view+json": {
       "model_id": "c34f87e8259e4d63ba81a6db83d5fa03",
       "version_major": 2,
       "version_minor": 0
      },
      "text/plain": [
       "  0%|          | 0/845 [00:00<?, ?it/s]"
      ]
     },
     "metadata": {},
     "output_type": "display_data"
    },
    {
     "name": "stdout",
     "output_type": "stream",
     "text": [
      "Train loss: 0.004,         Validation loss: 0.080,         Validation error: 0.025\n"
     ]
    },
    {
     "data": {
      "application/vnd.jupyter.widget-view+json": {
       "model_id": "4006803d0c17419db67d86496f88d843",
       "version_major": 2,
       "version_minor": 0
      },
      "text/plain": [
       "  0%|          | 0/845 [00:00<?, ?it/s]"
      ]
     },
     "metadata": {},
     "output_type": "display_data"
    },
    {
     "name": "stdout",
     "output_type": "stream",
     "text": [
      "Train loss: 0.005,         Validation loss: 0.078,         Validation error: 0.024\n"
     ]
    },
    {
     "data": {
      "application/vnd.jupyter.widget-view+json": {
       "model_id": "8e97fed8b23f479190ec6afa89a0cd7a",
       "version_major": 2,
       "version_minor": 0
      },
      "text/plain": [
       "  0%|          | 0/845 [00:00<?, ?it/s]"
      ]
     },
     "metadata": {},
     "output_type": "display_data"
    },
    {
     "name": "stdout",
     "output_type": "stream",
     "text": [
      "Train loss: 0.004,         Validation loss: 0.069,         Validation error: 0.020\n"
     ]
    },
    {
     "data": {
      "application/vnd.jupyter.widget-view+json": {
       "model_id": "29e3170e05c944e3b4ee5652437e85b3",
       "version_major": 2,
       "version_minor": 0
      },
      "text/plain": [
       "  0%|          | 0/845 [00:00<?, ?it/s]"
      ]
     },
     "metadata": {},
     "output_type": "display_data"
    },
    {
     "name": "stdout",
     "output_type": "stream",
     "text": [
      "Train loss: 0.005,         Validation loss: 0.079,         Validation error: 0.023\n"
     ]
    },
    {
     "data": {
      "application/vnd.jupyter.widget-view+json": {
       "model_id": "0b896f2e274d4045b856f8c2965119e9",
       "version_major": 2,
       "version_minor": 0
      },
      "text/plain": [
       "  0%|          | 0/845 [00:00<?, ?it/s]"
      ]
     },
     "metadata": {},
     "output_type": "display_data"
    },
    {
     "name": "stdout",
     "output_type": "stream",
     "text": [
      "Train loss: 0.004,         Validation loss: 0.079,         Validation error: 0.024\n"
     ]
    },
    {
     "data": {
      "application/vnd.jupyter.widget-view+json": {
       "model_id": "7aa7c49b0eec4dd69a2501a4eb46e3c1",
       "version_major": 2,
       "version_minor": 0
      },
      "text/plain": [
       "  0%|          | 0/845 [00:00<?, ?it/s]"
      ]
     },
     "metadata": {},
     "output_type": "display_data"
    },
    {
     "name": "stdout",
     "output_type": "stream",
     "text": [
      "Train loss: 0.004,         Validation loss: 0.071,         Validation error: 0.022\n"
     ]
    },
    {
     "data": {
      "application/vnd.jupyter.widget-view+json": {
       "model_id": "b64828999f974572acbc56936a31206e",
       "version_major": 2,
       "version_minor": 0
      },
      "text/plain": [
       "  0%|          | 0/845 [00:00<?, ?it/s]"
      ]
     },
     "metadata": {},
     "output_type": "display_data"
    },
    {
     "name": "stdout",
     "output_type": "stream",
     "text": [
      "Train loss: 0.004,         Validation loss: 0.063,         Validation error: 0.019\n"
     ]
    }
   ],
   "source": [
    "# Epoch Training\n",
    "num_epochs = 20\n",
    "\n",
    "best_verror = 1_000_000\n",
    "\n",
    "for epoch in tqdm(range(num_epochs)):\n",
    "    \n",
    "    # Inner training loop\n",
    "    avg_loss = train(model, train_loader)\n",
    "    \n",
    "    running_vloss = 0.0\n",
    "    running_error = 0.0\n",
    "    for i, vdata in enumerate(val_loader):\n",
    "        v_inputs, v_labels = vdata\n",
    "        v_outputs = model(v_inputs.to(device))\n",
    "        error = calculate_error(v_outputs, v_labels.to(device))\n",
    "        running_error += error\n",
    "        v_loss = criterion(v_outputs, v_labels.to(device))\n",
    "        running_vloss += v_loss\n",
    "        \n",
    "    avg_vloss = running_vloss / (i + 1)\n",
    "    avg_verror = running_error / (i + 1)\n",
    "    \n",
    "    if avg_verror < best_verror:\n",
    "        best_verror = avg_verror\n",
    "        torch.save(model.state_dict(), \"best-model.pth\")\n",
    "        \n",
    "    tqdm.write(\n",
    "        f\"Train loss: {avg_loss:.3f}, \\\n",
    "        Validation loss: {avg_vloss:.3f}, \\\n",
    "        Validation error: {avg_verror:.3f}\")"
   ]
  },
  {
   "cell_type": "markdown",
   "id": "46dd50b9-0e90-4bf6-be86-745243f326b3",
   "metadata": {},
   "source": [
    "We can see that the validation error drops quite significantly with each epoch. Now, assume that we realized the existance of \"9\", what should we do? One may think that we can just start feeding the model with the new samples, and ask it to learn on the \"9\", achieving some form of incremental improvement effect. Let's try it out."
   ]
  },
  {
   "cell_type": "code",
   "execution_count": 12,
   "id": "1c6ff088-b04d-43ed-9668-06c0057abc37",
   "metadata": {},
   "outputs": [
    {
     "name": "stdout",
     "output_type": "stream",
     "text": [
      "5949 training data\n"
     ]
    }
   ],
   "source": [
    "# Instantiate a new dataset with only the samples of 9 in it\n",
    "# We will reuse validation set from before to show catastrophic forgetting on the old task.\n",
    "# We set batch size to 1 to fully see the effects of each sample on the model\n",
    "model = LeNet()\n",
    "model.load_state_dict(torch.load(\"best-model.pth\"))\n",
    "newtrainset = IncompleteMNIST(holdout=False)\n",
    "print(f\"{len(newtrainset)} training data\")\n",
    "newtrainloader = torch.utils.data.DataLoader(\n",
    "                    newtrainset, \n",
    "                    batch_size=1, \n",
    "                    shuffle=True,\n",
    "                    num_workers=1\n",
    "                )"
   ]
  },
  {
   "cell_type": "code",
   "execution_count": 15,
   "id": "ec3cedfc-2321-4881-89d8-6906599d349c",
   "metadata": {},
   "outputs": [
    {
     "name": "stdout",
     "output_type": "stream",
     "text": [
      "Validation loss:  0.063\n",
      "Validation error:  0.019\n"
     ]
    }
   ],
   "source": [
    "# For a sanity check, let's make sure this model can indeed classify 0 - 8\n",
    "model = model.to(device)\n",
    "\n",
    "vloss, verror = validate(model, val_loader)\n",
    "    \n",
    "print(f\"Validation loss: {vloss: .3f}\")\n",
    "print(f\"Validation error: {verror: .3f}\")"
   ]
  },
  {
   "cell_type": "code",
   "execution_count": 12,
   "id": "5663f013-5962-4792-ab90-d3aae3e71b53",
   "metadata": {},
   "outputs": [],
   "source": [
    "# Reinitialize optimizer\n",
    "optimizer = torch.optim.SGD(model.parameters(), lr=0.001, momentum=0.9)"
   ]
  },
  {
   "cell_type": "code",
   "execution_count": 13,
   "id": "18e8a46b-69e8-44e8-86dd-a1b8d6737471",
   "metadata": {},
   "outputs": [
    {
     "name": "stdout",
     "output_type": "stream",
     "text": [
      "Loss: 0.07043291628360748, Error: 0.022059453651309013\n",
      "Loss: 0.1653931587934494, Error: 0.052111927419900894\n",
      "Loss: 0.5302544236183167, Error: 0.18099762499332428\n",
      "Loss: 1.018289566040039, Error: 0.3221302330493927\n",
      "Loss: 1.696558952331543, Error: 0.4251136779785156\n",
      "Loss: 2.256622076034546, Error: 0.5017015337944031\n",
      "Loss: 3.026606798171997, Error: 0.6386767625808716\n",
      "Loss: 4.104151248931885, Error: 0.7019382119178772\n",
      "Loss: 5.45741081237793, Error: 0.7821078896522522\n",
      "Loss: 7.039127349853516, Error: 0.8422807455062866\n",
      "Loss: 8.854499816894531, Error: 0.9208633303642273\n",
      "Loss: 10.747515678405762, Error: 0.9810433387756348\n",
      "Loss: 12.626523971557617, Error: 0.9978944659233093\n",
      "Loss: 14.398246765136719, Error: 0.9993350505828857\n",
      "Error approximate to 1. Terminating...\n"
     ]
    }
   ],
   "source": [
    "# Next we train the model on one data point\n",
    "losses = []\n",
    "errors = []\n",
    "\n",
    "for i, data in enumerate(newtrainloader):\n",
    "    imgs, labels = data\n",
    "\n",
    "    optimizer.zero_grad()\n",
    "\n",
    "    # Forward pass\n",
    "    outputs = model(imgs.to(device))\n",
    "\n",
    "    # Compute loss and backpropagate error gradients\n",
    "    loss = criterion(outputs, labels.to(device))\n",
    "    loss.backward()\n",
    "\n",
    "    # Gradient descent\n",
    "    optimizer.step()\n",
    "\n",
    "    vloss, verror = validate(model, val_loader)\n",
    "    \n",
    "    print(f\"Loss: {vloss.item()}, Error: {verror.item()}\")\n",
    "    \n",
    "    # For plotting\n",
    "    losses.append(vloss.item())\n",
    "    errors.append(verror.item())\n",
    "    \n",
    "    if verror > 1 - 1e-3:\n",
    "        print(\"Error approximate to 1. Terminating...\")\n",
    "        break\n"
   ]
  },
  {
   "cell_type": "code",
   "execution_count": 36,
   "id": "8fb57196-ae96-4421-befc-d7aca09988ec",
   "metadata": {},
   "outputs": [
    {
     "data": {
      "text/plain": [
       "Text(0.5, 1.0, 'Error Rate')"
      ]
     },
     "execution_count": 36,
     "metadata": {},
     "output_type": "execute_result"
    },
    {
     "data": {
      "image/png": "[encoded data removed]",
      "text/plain": [
       "<Figure size 432x288 with 1 Axes>"
      ]
     },
     "metadata": {
      "needs_background": "light"
     },
     "output_type": "display_data"
    }
   ],
   "source": [
    "from matplotlib import pyplot as plt\n",
    "\n",
    "plt.plot(errors)\n",
    "plt.ylabel(\"error\")\n",
    "plt.xlabel(\"number of samples\")\n",
    "plt.title(\"Error Rate\")"
   ]
  },
  {
   "cell_type": "code",
   "execution_count": 37,
   "id": "763bf6d6-5892-4aaf-a5b2-64bcb5905ee2",
   "metadata": {},
   "outputs": [
    {
     "data": {
      "text/plain": [
       "Text(0.5, 1.0, 'Validation Loss')"
      ]
     },
     "execution_count": 37,
     "metadata": {},
     "output_type": "execute_result"
    },
    {
     "data": {
      "image/png": "[encoded data removed]",
      "text/plain": [
       "<Figure size 432x288 with 1 Axes>"
      ]
     },
     "metadata": {
      "needs_background": "light"
     },
     "output_type": "display_data"
    }
   ],
   "source": [
    "plt.plot(losses)\n",
    "\n",
    "plt.ylabel(\"loss\")\n",
    "plt.xlabel(\"number of samples\")\n",
    "plt.title(\"Validation Loss\")"
   ]
  },
  {
   "cell_type": "markdown",
   "id": "356aee76-626c-4715-9651-729b3637e8f4",
   "metadata": {},
   "source": [
    "From the above experiment, we can see that if you sequentially feed a model with data that it has not seen before and ask it to train on it with SGD, the loss and error will monotonously increase with each new datapoint being trained on. This is much like the online case where the model seems to disregard what it has previously learned and overfit on the latest new data. Next, we should look into some possible solutions (albeit naive ones)."
   ]
  },
  {
   "cell_type": "markdown",
   "id": "95ee1932-4f66-4c93-b073-2b80c6b12a3a",
   "metadata": {},
   "source": [
    "## Batch Replay\n",
    "\n",
    "One insight about continual learning is that humans don't just learn from new data. We compare and contrast with past memory of what we already know. We can try to replicate this by assuming a perfect memory (or storage) of past data, and we stochastically sample each batch to mix with the new incoming data. In the next part, we will implement such as batching mechanism."
   ]
  },
  {
   "cell_type": "code",
   "execution_count": 53,
   "id": "f3175ebd-9d0d-4567-997c-0985c6d6f8b9",
   "metadata": {},
   "outputs": [
    {
     "name": "stdout",
     "output_type": "stream",
     "text": [
      "Validation loss:  0.063\n",
      "Validation error:  0.019\n"
     ]
    }
   ],
   "source": [
    "# Reload a new trained model\n",
    "model = LeNet()\n",
    "model.load_state_dict(torch.load(\"best-model.pth\"))\n",
    "model = model.to(device)\n",
    "vloss, verror = validate(model, val_loader)\n",
    "print(f\"Validation loss: {vloss: .3f}\")\n",
    "print(f\"Validation error: {verror: .3f}\")"
   ]
  },
  {
   "cell_type": "code",
   "execution_count": 54,
   "id": "72bed317-b4cf-46c3-a1b8-c588c454fba2",
   "metadata": {},
   "outputs": [],
   "source": [
    "optimizer = torch.optim.SGD(model.parameters(), lr=0.001, momentum=0.9)"
   ]
  },
  {
   "cell_type": "code",
   "execution_count": null,
   "id": "118a5888-ed17-47f5-9654-0c2d1334181e",
   "metadata": {},
   "outputs": [],
   "source": [
    "# We need a new batching mechanism which mixes new data from \n",
    "# newtrainset with other samples from trainset, forming a batch.\n",
    "batch_size = 64\n",
    "\n",
    "newtrainloader = torch.utils.data.DataLoader(\n",
    "                    newtrainset, \n",
    "                    batch_size=batch_size // 10, \n",
    "                    shuffle=True,\n",
    "                    num_workers=2\n",
    "                )\n",
    "losses = []\n",
    "errors = []\n",
    "\n",
    "for i, data in tqdm(enumerate(newtrainloader), total=len(newtrainloader)):\n",
    "    img1, label1 = data\n",
    "    \n",
    "    # Create a temporary data loader\n",
    "    # with stochastic samples of 0 - 8 data\n",
    "    tmploader = DataLoader(\n",
    "        trainset, \n",
    "        batch_size=batch_size - batch_size // 10,\n",
    "        sampler=np.random.permutation(len(trainset)),\n",
    "        num_workers=2\n",
    "    )\n",
    "    \n",
    "    for _, data2 in enumerate(tmploader):\n",
    "        img2, label2 = data2\n",
    "        break\n",
    "        \n",
    "    # Collate the batch\n",
    "    imgs = torch.cat((img1, img2), dim=0)\n",
    "    labels = torch.cat((label1, label2))\n",
    "    \n",
    "    # Shuffle the data and labels\n",
    "    indices = torch.randperm(len(labels))\n",
    "    imgs = imgs[indices]\n",
    "    labels = labels[indices]\n",
    "    \n",
    "    optimizer.zero_grad()\n",
    "\n",
    "    # Forward pass\n",
    "    outputs = model(imgs.to(device))\n",
    "\n",
    "    # Compute loss and backpropagate error gradients\n",
    "    loss = criterion(outputs, labels.to(device))\n",
    "    loss.backward()\n",
    "\n",
    "    # Gradient descent\n",
    "    optimizer.step()\n",
    "\n",
    "    vloss, verror = validate(model, val_loader)\n",
    "    \n",
    "    # For plotting\n",
    "    losses.append(vloss.item())\n",
    "    errors.append(verror.item())\n",
    "    "
   ]
  },
  {
   "cell_type": "code",
   "execution_count": 61,
   "id": "d0d00718-5306-4702-9ffa-9029c02aea4a",
   "metadata": {},
   "outputs": [
    {
     "data": {
      "text/plain": [
       "Text(0.5, 1.0, 'Validation Loss')"
      ]
     },
     "execution_count": 61,
     "metadata": {},
     "output_type": "execute_result"
    },
    {
     "data": {
      "image/png": "[encoded data removed]",
      "text/plain": [
       "<Figure size 432x288 with 1 Axes>"
      ]
     },
     "metadata": {
      "needs_background": "light"
     },
     "output_type": "display_data"
    }
   ],
   "source": [
    "plt.plot(losses)\n",
    "plt.ylabel(\"loss\")\n",
    "plt.xlabel(\"Batch number\")\n",
    "plt.title(\"Validation Loss\")"
   ]
  },
  {
   "cell_type": "code",
   "execution_count": 62,
   "id": "d9970a53-49a6-40cf-9197-f334c203361d",
   "metadata": {},
   "outputs": [
    {
     "data": {
      "text/plain": [
       "Text(0.5, 1.0, 'Validation Error')"
      ]
     },
     "execution_count": 62,
     "metadata": {},
     "output_type": "execute_result"
    },
    {
     "data": {
      "image/png": "[encoded data removed]",
      "text/plain": [
       "<Figure size 432x288 with 1 Axes>"
      ]
     },
     "metadata": {
      "needs_background": "light"
     },
     "output_type": "display_data"
    }
   ],
   "source": [
    "plt.plot(errors)\n",
    "plt.ylabel(\"error\")\n",
    "plt.xlabel(\"number of samples\")\n",
    "plt.title(\"Validation Error\")"
   ]
  },
  {
   "cell_type": "markdown",
   "id": "9719089f-67ff-40e7-b875-d7133ff2cadf",
   "metadata": {},
   "source": [
    "With the batching strategy, the validation error and loss no longer monotonously increase when tested on the old validation set of samples with labels 0 - 8. We can also inspect how the model performs on samples of 9."
   ]
  },
  {
   "cell_type": "code",
   "execution_count": 68,
   "id": "7d65f777-120b-4b6a-810c-0388c1017af3",
   "metadata": {},
   "outputs": [
    {
     "name": "stdout",
     "output_type": "stream",
     "text": [
      "1009 training data\n",
      "Validation loss: 0.085\n",
      "Validation error: 0.027\n"
     ]
    }
   ],
   "source": [
    "newvalset = IncompleteMNIST(holdout=False, train=False)\n",
    "print(f\"{len(newvalset)} training data\")\n",
    "newvalloader = torch.utils.data.DataLoader(\n",
    "                    newvalset, \n",
    "                    batch_size=16, \n",
    "                    shuffle=True,\n",
    "                    num_workers=2\n",
    "                )\n",
    "loss, error = validate(model, newvalloader)\n",
    "print(f\"Validation loss: {loss.item():.3f}\")\n",
    "print(f\"Validation error: {error.item():.3f}\")"
   ]
  },
  {
   "cell_type": "code",
   "execution_count": 70,
   "id": "30772aa8-95ef-460d-a0de-1c08c48f03c2",
   "metadata": {},
   "outputs": [
    {
     "name": "stdout",
     "output_type": "stream",
     "text": [
      "Validation loss: 0.086\n",
      "Validation error: 0.027\n"
     ]
    }
   ],
   "source": [
    "# This is the average for samples 0 - 8\n",
    "loss, error = validate(model, val_loader)\n",
    "print(f\"Validation loss: {loss.item():.3f}\")\n",
    "print(f\"Validation error: {error.item():.3f}\")"
   ]
  },
  {
   "cell_type": "code",
   "execution_count": 81,
   "id": "eac3dc26-4bff-406c-9731-c14a3c3db1ea",
   "metadata": {},
   "outputs": [
    {
     "name": "stdout",
     "output_type": "stream",
     "text": [
      "Predicted label: 9\n",
      "Actual label: 9\n"
     ]
    }
   ],
   "source": [
    "# Sanity check\n",
    "img, label = newvalset[0]\n",
    "predict = model(img.unsqueeze(0).to(device))\n",
    "predicted_label = torch.argmax(torch.softmax(predict, dim=1))\n",
    "print(f\"Predicted label: {predicted_label}\")\n",
    "print(f\"Actual label: {label}\")"
   ]
  }
 ],
 "metadata": {
  "jupytext": {
   "formats": "ipynb,md"
  },
  "kernelspec": {
   "display_name": "Python 3 (ipykernel)",
   "language": "python",
   "name": "python3"
  },
  "language_info": {
   "codemirror_mode": {
    "name": "ipython",
    "version": 3
   },
   "file_extension": ".py",
   "mimetype": "text/x-python",
   "name": "python",
   "nbconvert_exporter": "python",
   "pygments_lexer": "ipython3",
   "version": "3.10.4"
  },
  "vscode": {
   "interpreter": {
    "hash": "4f825a7779788a986c27e7823a77f1855f67620297db03dc100c0d5786b7a94d"
   }
  }
 },
 "nbformat": 4,
 "nbformat_minor": 5
}
