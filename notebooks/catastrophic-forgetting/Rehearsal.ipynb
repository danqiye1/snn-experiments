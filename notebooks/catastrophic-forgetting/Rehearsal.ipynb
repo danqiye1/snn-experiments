{
 "cells": [
  {
   "cell_type": "markdown",
   "id": "b774f374-76d3-4e78-a427-656285110a71",
   "metadata": {},
   "source": [
    "# Rehearsal Mechanisms\n",
    "\n",
    "## Introduction\n",
    "\n",
    "The rehearsal mechanism is described by Robbins (1995) as a mechanism to mitigate the effects of catastrophic forgetting. They even went as far as postulating that this mechanism is what the human brain used to learn, through replaying old data along with new data during dreaming in sleep. In this notebook, we will explore the effects of rehearsal and pseudorehearsals on a model that is trained to do MNIST digit classification."
   ]
  },
  {
   "cell_type": "code",
   "execution_count": 1,
   "id": "ebaa5afb-9c2c-424c-9c2f-579b648b05d7",
   "metadata": {
    "collapsed": true,
    "jupyter": {
     "outputs_hidden": true
    }
   },
   "outputs": [],
   "source": [
    "# As always, we start with package imports\n",
    "import torch\n",
    "import torch.nn as nn\n",
    "import numpy as np\n",
    "import torchvision\n",
    "from torchvision.transforms import ToTensor, Compose, Pad\n",
    "from tqdm.notebook import tqdm\n",
    "\n",
    "# From my pytorch-patterns package\n",
    "from utils import train_epoch, calculate_error, validate"
   ]
  },
  {
   "cell_type": "markdown",
   "id": "b925d004-284f-4d63-b85c-39aaa1c2bcbc",
   "metadata": {},
   "source": [
    "## Customize Dataset\n",
    "\n",
    "Unlike classification tasks, we can't just use the MNIST dataset as is. To investigate catastrophic forgetting, we need to holdout the samples of 1 class of labels. To do this, we need to build a new PyTorch dataset."
   ]
  },
  {
   "cell_type": "code",
   "execution_count": 2,
   "id": "7bdf7acb-8ea6-443e-a707-b77b31dba69c",
   "metadata": {
    "collapsed": true,
    "jupyter": {
     "outputs_hidden": true
    }
   },
   "outputs": [],
   "source": [
    "class CFMNIST(torchvision.datasets.MNIST):\n",
    "    \n",
    "    def __init__(\n",
    "        self, root, \n",
    "        train=True, \n",
    "        download=False, \n",
    "        transform=None, \n",
    "        target_transform=None,\n",
    "        holdout_label=9,\n",
    "        holdout=True,\n",
    "    ):\n",
    "        super().__init__(\n",
    "            root, \n",
    "            train=train, \n",
    "            download=download, \n",
    "            transform=transform, \n",
    "            target_transform=target_transform\n",
    "        )\n",
    "        \n",
    "        imgs, labels = self._load_data()\n",
    "        \n",
    "        if holdout:\n",
    "            mask = labels != holdout_label\n",
    "        else:\n",
    "            mask = labels == holdout_label\n",
    "            \n",
    "        self.data = imgs[mask]\n",
    "        self.targets = labels[mask]"
   ]
  },
  {
   "cell_type": "code",
   "execution_count": 3,
   "id": "2a2139fd-fcb8-4b17-b22b-6ebef1c2e752",
   "metadata": {
    "collapsed": true,
    "jupyter": {
     "outputs_hidden": true
    }
   },
   "outputs": [
    {
     "name": "stdout",
     "output_type": "stream",
     "text": [
      "Dataset CFMNIST\n",
      "    Number of datapoints: 54051\n",
      "    Root location: .\n",
      "    Split: Train\n",
      "    StandardTransform\n",
      "Transform: Compose(\n",
      "               ToTensor()\n",
      "               Pad(padding=2, fill=0, padding_mode=constant)\n",
      "           )\n",
      "Dataset CFMNIST\n",
      "    Number of datapoints: 8991\n",
      "    Root location: .\n",
      "    Split: Test\n",
      "    StandardTransform\n",
      "Transform: Compose(\n",
      "               ToTensor()\n",
      "               Pad(padding=2, fill=0, padding_mode=constant)\n",
      "           )\n"
     ]
    }
   ],
   "source": [
    "transforms = Compose([\n",
    "    ToTensor(),\n",
    "    Pad(2)\n",
    "])\n",
    "trainset = CFMNIST(\".\", download=True, transform=transforms)\n",
    "validationset = CFMNIST(\".\", download=True, train=False, transform=transforms)\n",
    "print(trainset)\n",
    "print(validationset)"
   ]
  },
  {
   "cell_type": "markdown",
   "id": "f31e46a5-604a-49c2-b423-786c564cfa01",
   "metadata": {},
   "source": [
    "## Training LeNet5\n",
    "\n",
    "Next, we pre-train a LeNet5 while holding out the label 9 to get a model that can classify MNIST 0 - 8. We store the best model based."
   ]
  },
  {
   "cell_type": "code",
   "execution_count": 4,
   "id": "18c30ff9-e7d9-4d56-9f64-0d5d888768bc",
   "metadata": {
    "collapsed": true,
    "jupyter": {
     "outputs_hidden": true
    }
   },
   "outputs": [],
   "source": [
    "class LeNet(nn.Module):\n",
    "    \n",
    "    def __init__(self):\n",
    "        super(LeNet, self).__init__()\n",
    "        self.convnet = nn.Sequential(\n",
    "            nn.Conv2d(in_channels=1, out_channels=6, kernel_size=5),\n",
    "            nn.ReLU(inplace=True),\n",
    "            nn.AvgPool2d(kernel_size=2, stride=2),\n",
    "            nn.Conv2d(in_channels=6, out_channels=16, kernel_size=5),\n",
    "            nn.ReLU(inplace=True),\n",
    "            nn.AvgPool2d(kernel_size=2, stride=2),\n",
    "            nn.Conv2d(in_channels=16, out_channels=120, kernel_size=5),\n",
    "            nn.ReLU(inplace=True),\n",
    "        )\n",
    "        \n",
    "        self.fc1 = nn.Linear(in_features=120, out_features=84)\n",
    "        self.fc2 = nn.Linear(in_features=84, out_features=10)\n",
    "        \n",
    "    def forward(self, img):\n",
    "        X = self.convnet(img)\n",
    "        X = torch.flatten(X, start_dim=1)\n",
    "        X = self.fc1(X)\n",
    "        X = nn.functional.relu(X)\n",
    "        X = self.fc2(X)\n",
    "        return X"
   ]
  },
  {
   "cell_type": "code",
   "execution_count": 5,
   "id": "81491906-8186-474f-8844-00f3338f7355",
   "metadata": {
    "collapsed": true,
    "jupyter": {
     "outputs_hidden": true
    }
   },
   "outputs": [],
   "source": [
    "# Setup training\n",
    "device = torch.device(\"cuda:0\" if torch.cuda.is_available() else \"cpu\")\n",
    "model = LeNet().to(device)\n",
    "criterion = torch.nn.CrossEntropyLoss()\n",
    "optimizer = torch.optim.SGD(model.parameters(), lr=0.001, momentum=0.9)\n",
    "\n",
    "train_loader = torch.utils.data.DataLoader(\n",
    "                    trainset, \n",
    "                    batch_size=64, \n",
    "                    shuffle=True,\n",
    "                    num_workers=2\n",
    "                )\n",
    "\n",
    "val_loader = torch.utils.data.DataLoader(\n",
    "                    validationset, \n",
    "                    batch_size=64, \n",
    "                    shuffle=True,\n",
    "                    num_workers=2\n",
    "                )"
   ]
  },
  {
   "cell_type": "code",
   "execution_count": 6,
   "id": "ec7c1ee3-0c4b-4bbb-899d-1e21caa3d9d7",
   "metadata": {
    "collapsed": true,
    "jupyter": {
     "outputs_hidden": true
    },
    "tags": []
   },
   "outputs": [
    {
     "data": {
      "application/vnd.jupyter.widget-view+json": {
       "model_id": "c2a3367a3e7949168a54c24517ac308e",
       "version_major": 2,
       "version_minor": 0
      },
      "text/plain": [
       "  0%|          | 0/30 [00:00<?, ?it/s]"
      ]
     },
     "metadata": {},
     "output_type": "display_data"
    },
    {
     "data": {
      "application/vnd.jupyter.widget-view+json": {
       "model_id": "9e8d02d53e884f3995b9e5fa70cddd28",
       "version_major": 2,
       "version_minor": 0
      },
      "text/plain": [
       "  0%|          | 0/845 [00:00<?, ?it/s]"
      ]
     },
     "metadata": {},
     "output_type": "display_data"
    },
    {
     "name": "stdout",
     "output_type": "stream",
     "text": [
      "Train loss: 2.264,         Validation loss: 2.241,         Validation error: 0.874\n"
     ]
    },
    {
     "data": {
      "application/vnd.jupyter.widget-view+json": {
       "model_id": "006242aaa10142f380b931ee5a806ee3",
       "version_major": 2,
       "version_minor": 0
      },
      "text/plain": [
       "  0%|          | 0/845 [00:00<?, ?it/s]"
      ]
     },
     "metadata": {},
     "output_type": "display_data"
    },
    {
     "name": "stdout",
     "output_type": "stream",
     "text": [
      "Train loss: 2.228,         Validation loss: 2.216,         Validation error: 0.873\n"
     ]
    },
    {
     "data": {
      "application/vnd.jupyter.widget-view+json": {
       "model_id": "07bac88695ec4233b2abfa85311df29e",
       "version_major": 2,
       "version_minor": 0
      },
      "text/plain": [
       "  0%|          | 0/845 [00:00<?, ?it/s]"
      ]
     },
     "metadata": {},
     "output_type": "display_data"
    },
    {
     "name": "stdout",
     "output_type": "stream",
     "text": [
      "Train loss: 2.193,         Validation loss: 2.109,         Validation error: 0.586\n"
     ]
    },
    {
     "data": {
      "application/vnd.jupyter.widget-view+json": {
       "model_id": "12e24d2c39184fda8956ead6df65b108",
       "version_major": 2,
       "version_minor": 0
      },
      "text/plain": [
       "  0%|          | 0/845 [00:00<?, ?it/s]"
      ]
     },
     "metadata": {},
     "output_type": "display_data"
    },
    {
     "name": "stdout",
     "output_type": "stream",
     "text": [
      "Train loss: 0.878,         Validation loss: 0.359,         Validation error: 0.107\n"
     ]
    },
    {
     "data": {
      "application/vnd.jupyter.widget-view+json": {
       "model_id": "4b928860325947da8819e55179d14d36",
       "version_major": 2,
       "version_minor": 0
      },
      "text/plain": [
       "  0%|          | 0/845 [00:00<?, ?it/s]"
      ]
     },
     "metadata": {},
     "output_type": "display_data"
    },
    {
     "name": "stdout",
     "output_type": "stream",
     "text": [
      "Train loss: 0.322,         Validation loss: 0.251,         Validation error: 0.073\n"
     ]
    },
    {
     "data": {
      "application/vnd.jupyter.widget-view+json": {
       "model_id": "2e8a1e2b07384cc6a3cdbc23c1749304",
       "version_major": 2,
       "version_minor": 0
      },
      "text/plain": [
       "  0%|          | 0/845 [00:00<?, ?it/s]"
      ]
     },
     "metadata": {},
     "output_type": "display_data"
    },
    {
     "name": "stdout",
     "output_type": "stream",
     "text": [
      "Train loss: 0.241,         Validation loss: 0.192,         Validation error: 0.055\n"
     ]
    },
    {
     "data": {
      "application/vnd.jupyter.widget-view+json": {
       "model_id": "0748bc8dcc264a4d824b625e57df910d",
       "version_major": 2,
       "version_minor": 0
      },
      "text/plain": [
       "  0%|          | 0/845 [00:00<?, ?it/s]"
      ]
     },
     "metadata": {},
     "output_type": "display_data"
    },
    {
     "name": "stdout",
     "output_type": "stream",
     "text": [
      "Train loss: 0.193,         Validation loss: 0.154,         Validation error: 0.044\n"
     ]
    },
    {
     "data": {
      "application/vnd.jupyter.widget-view+json": {
       "model_id": "df867073de974a0e9ad38f65b44114cd",
       "version_major": 2,
       "version_minor": 0
      },
      "text/plain": [
       "  0%|          | 0/845 [00:00<?, ?it/s]"
      ]
     },
     "metadata": {},
     "output_type": "display_data"
    },
    {
     "name": "stdout",
     "output_type": "stream",
     "text": [
      "Train loss: 0.164,         Validation loss: 0.134,         Validation error: 0.039\n"
     ]
    },
    {
     "data": {
      "application/vnd.jupyter.widget-view+json": {
       "model_id": "dec90e2a838540228aa0a713f0956f98",
       "version_major": 2,
       "version_minor": 0
      },
      "text/plain": [
       "  0%|          | 0/845 [00:00<?, ?it/s]"
      ]
     },
     "metadata": {},
     "output_type": "display_data"
    },
    {
     "name": "stdout",
     "output_type": "stream",
     "text": [
      "Train loss: 0.143,         Validation loss: 0.125,         Validation error: 0.037\n"
     ]
    },
    {
     "data": {
      "application/vnd.jupyter.widget-view+json": {
       "model_id": "78a39a0021b64258a82c0a44a91ef689",
       "version_major": 2,
       "version_minor": 0
      },
      "text/plain": [
       "  0%|          | 0/845 [00:00<?, ?it/s]"
      ]
     },
     "metadata": {},
     "output_type": "display_data"
    },
    {
     "name": "stdout",
     "output_type": "stream",
     "text": [
      "Train loss: 0.127,         Validation loss: 0.138,         Validation error: 0.045\n"
     ]
    },
    {
     "data": {
      "application/vnd.jupyter.widget-view+json": {
       "model_id": "df92b53ac2a644f591e8c8e83792a6d9",
       "version_major": 2,
       "version_minor": 0
      },
      "text/plain": [
       "  0%|          | 0/845 [00:00<?, ?it/s]"
      ]
     },
     "metadata": {},
     "output_type": "display_data"
    },
    {
     "name": "stdout",
     "output_type": "stream",
     "text": [
      "Train loss: 0.115,         Validation loss: 0.107,         Validation error: 0.030\n"
     ]
    },
    {
     "data": {
      "application/vnd.jupyter.widget-view+json": {
       "model_id": "b518c0dafce64a38b521dc284affc61b",
       "version_major": 2,
       "version_minor": 0
      },
      "text/plain": [
       "  0%|          | 0/845 [00:00<?, ?it/s]"
      ]
     },
     "metadata": {},
     "output_type": "display_data"
    },
    {
     "name": "stdout",
     "output_type": "stream",
     "text": [
      "Train loss: 0.104,         Validation loss: 0.092,         Validation error: 0.028\n"
     ]
    },
    {
     "data": {
      "application/vnd.jupyter.widget-view+json": {
       "model_id": "de0956906e674d7d9dc4ff3b8fa39b99",
       "version_major": 2,
       "version_minor": 0
      },
      "text/plain": [
       "  0%|          | 0/845 [00:00<?, ?it/s]"
      ]
     },
     "metadata": {},
     "output_type": "display_data"
    },
    {
     "name": "stdout",
     "output_type": "stream",
     "text": [
      "Train loss: 0.096,         Validation loss: 0.087,         Validation error: 0.025\n"
     ]
    },
    {
     "data": {
      "application/vnd.jupyter.widget-view+json": {
       "model_id": "7f9ee01be91d4d92a82bc99e19c56398",
       "version_major": 2,
       "version_minor": 0
      },
      "text/plain": [
       "  0%|          | 0/845 [00:00<?, ?it/s]"
      ]
     },
     "metadata": {},
     "output_type": "display_data"
    },
    {
     "name": "stdout",
     "output_type": "stream",
     "text": [
      "Train loss: 0.089,         Validation loss: 0.085,         Validation error: 0.026\n"
     ]
    },
    {
     "data": {
      "application/vnd.jupyter.widget-view+json": {
       "model_id": "f734d9a7a51d4c61bae126023e416516",
       "version_major": 2,
       "version_minor": 0
      },
      "text/plain": [
       "  0%|          | 0/845 [00:00<?, ?it/s]"
      ]
     },
     "metadata": {},
     "output_type": "display_data"
    },
    {
     "name": "stdout",
     "output_type": "stream",
     "text": [
      "Train loss: 0.082,         Validation loss: 0.077,         Validation error: 0.024\n"
     ]
    },
    {
     "data": {
      "application/vnd.jupyter.widget-view+json": {
       "model_id": "0b2aae7e47b44719ac85053a639f3a01",
       "version_major": 2,
       "version_minor": 0
      },
      "text/plain": [
       "  0%|          | 0/845 [00:00<?, ?it/s]"
      ]
     },
     "metadata": {},
     "output_type": "display_data"
    },
    {
     "name": "stdout",
     "output_type": "stream",
     "text": [
      "Train loss: 0.077,         Validation loss: 0.080,         Validation error: 0.024\n"
     ]
    },
    {
     "data": {
      "application/vnd.jupyter.widget-view+json": {
       "model_id": "0056fbff802d45b28b16ff6b5e77363f",
       "version_major": 2,
       "version_minor": 0
      },
      "text/plain": [
       "  0%|          | 0/845 [00:00<?, ?it/s]"
      ]
     },
     "metadata": {},
     "output_type": "display_data"
    },
    {
     "name": "stdout",
     "output_type": "stream",
     "text": [
      "Train loss: 0.072,         Validation loss: 0.069,         Validation error: 0.020\n"
     ]
    },
    {
     "data": {
      "application/vnd.jupyter.widget-view+json": {
       "model_id": "66984e40b59a42acbc1f2e155de46c0f",
       "version_major": 2,
       "version_minor": 0
      },
      "text/plain": [
       "  0%|          | 0/845 [00:00<?, ?it/s]"
      ]
     },
     "metadata": {},
     "output_type": "display_data"
    },
    {
     "name": "stdout",
     "output_type": "stream",
     "text": [
      "Train loss: 0.069,         Validation loss: 0.068,         Validation error: 0.021\n"
     ]
    },
    {
     "data": {
      "application/vnd.jupyter.widget-view+json": {
       "model_id": "74df52b2e1a847ceb9d4d630ccd51e09",
       "version_major": 2,
       "version_minor": 0
      },
      "text/plain": [
       "  0%|          | 0/845 [00:00<?, ?it/s]"
      ]
     },
     "metadata": {},
     "output_type": "display_data"
    },
    {
     "name": "stdout",
     "output_type": "stream",
     "text": [
      "Train loss: 0.065,         Validation loss: 0.075,         Validation error: 0.023\n"
     ]
    },
    {
     "data": {
      "application/vnd.jupyter.widget-view+json": {
       "model_id": "7b5243b312be469fb9d3f137a7b034f0",
       "version_major": 2,
       "version_minor": 0
      },
      "text/plain": [
       "  0%|          | 0/845 [00:00<?, ?it/s]"
      ]
     },
     "metadata": {},
     "output_type": "display_data"
    },
    {
     "name": "stdout",
     "output_type": "stream",
     "text": [
      "Train loss: 0.061,         Validation loss: 0.062,         Validation error: 0.019\n"
     ]
    },
    {
     "data": {
      "application/vnd.jupyter.widget-view+json": {
       "model_id": "fd15b90d0b264e0da815f82f4b61c004",
       "version_major": 2,
       "version_minor": 0
      },
      "text/plain": [
       "  0%|          | 0/845 [00:00<?, ?it/s]"
      ]
     },
     "metadata": {},
     "output_type": "display_data"
    },
    {
     "name": "stdout",
     "output_type": "stream",
     "text": [
      "Train loss: 0.058,         Validation loss: 0.064,         Validation error: 0.021\n"
     ]
    },
    {
     "data": {
      "application/vnd.jupyter.widget-view+json": {
       "model_id": "e7c76908324f42dcab7f484a01a5d1df",
       "version_major": 2,
       "version_minor": 0
      },
      "text/plain": [
       "  0%|          | 0/845 [00:00<?, ?it/s]"
      ]
     },
     "metadata": {},
     "output_type": "display_data"
    },
    {
     "name": "stdout",
     "output_type": "stream",
     "text": [
      "Train loss: 0.056,         Validation loss: 0.062,         Validation error: 0.019\n"
     ]
    },
    {
     "data": {
      "application/vnd.jupyter.widget-view+json": {
       "model_id": "fee8a397ca97452ab53a80c5cde9618f",
       "version_major": 2,
       "version_minor": 0
      },
      "text/plain": [
       "  0%|          | 0/845 [00:00<?, ?it/s]"
      ]
     },
     "metadata": {},
     "output_type": "display_data"
    },
    {
     "name": "stdout",
     "output_type": "stream",
     "text": [
      "Train loss: 0.054,         Validation loss: 0.060,         Validation error: 0.019\n"
     ]
    },
    {
     "data": {
      "application/vnd.jupyter.widget-view+json": {
       "model_id": "b3ef3cf568364949aaf45c43252dd0ea",
       "version_major": 2,
       "version_minor": 0
      },
      "text/plain": [
       "  0%|          | 0/845 [00:00<?, ?it/s]"
      ]
     },
     "metadata": {},
     "output_type": "display_data"
    },
    {
     "name": "stdout",
     "output_type": "stream",
     "text": [
      "Train loss: 0.051,         Validation loss: 0.056,         Validation error: 0.017\n"
     ]
    },
    {
     "data": {
      "application/vnd.jupyter.widget-view+json": {
       "model_id": "45ffcd17c5f3429880dc3cfe0fb19018",
       "version_major": 2,
       "version_minor": 0
      },
      "text/plain": [
       "  0%|          | 0/845 [00:00<?, ?it/s]"
      ]
     },
     "metadata": {},
     "output_type": "display_data"
    },
    {
     "name": "stdout",
     "output_type": "stream",
     "text": [
      "Train loss: 0.049,         Validation loss: 0.053,         Validation error: 0.016\n"
     ]
    },
    {
     "data": {
      "application/vnd.jupyter.widget-view+json": {
       "model_id": "7aea0c07839e4837bb0462ffca24601e",
       "version_major": 2,
       "version_minor": 0
      },
      "text/plain": [
       "  0%|          | 0/845 [00:00<?, ?it/s]"
      ]
     },
     "metadata": {},
     "output_type": "display_data"
    },
    {
     "name": "stdout",
     "output_type": "stream",
     "text": [
      "Train loss: 0.046,         Validation loss: 0.052,         Validation error: 0.017\n"
     ]
    },
    {
     "data": {
      "application/vnd.jupyter.widget-view+json": {
       "model_id": "63902bc7bb9b4c7380e2db853ca57dba",
       "version_major": 2,
       "version_minor": 0
      },
      "text/plain": [
       "  0%|          | 0/845 [00:00<?, ?it/s]"
      ]
     },
     "metadata": {},
     "output_type": "display_data"
    },
    {
     "name": "stdout",
     "output_type": "stream",
     "text": [
      "Train loss: 0.045,         Validation loss: 0.052,         Validation error: 0.014\n"
     ]
    },
    {
     "data": {
      "application/vnd.jupyter.widget-view+json": {
       "model_id": "14d1566b9b2d44b0850c18f318d2ccc8",
       "version_major": 2,
       "version_minor": 0
      },
      "text/plain": [
       "  0%|          | 0/845 [00:00<?, ?it/s]"
      ]
     },
     "metadata": {},
     "output_type": "display_data"
    },
    {
     "name": "stdout",
     "output_type": "stream",
     "text": [
      "Train loss: 0.043,         Validation loss: 0.058,         Validation error: 0.018\n"
     ]
    },
    {
     "data": {
      "application/vnd.jupyter.widget-view+json": {
       "model_id": "81086794bd394700a61e7f80e9931620",
       "version_major": 2,
       "version_minor": 0
      },
      "text/plain": [
       "  0%|          | 0/845 [00:00<?, ?it/s]"
      ]
     },
     "metadata": {},
     "output_type": "display_data"
    },
    {
     "name": "stdout",
     "output_type": "stream",
     "text": [
      "Train loss: 0.042,         Validation loss: 0.054,         Validation error: 0.015\n"
     ]
    },
    {
     "data": {
      "application/vnd.jupyter.widget-view+json": {
       "model_id": "ea34c264e32840e897575bb9f19e4ac3",
       "version_major": 2,
       "version_minor": 0
      },
      "text/plain": [
       "  0%|          | 0/845 [00:00<?, ?it/s]"
      ]
     },
     "metadata": {},
     "output_type": "display_data"
    },
    {
     "name": "stdout",
     "output_type": "stream",
     "text": [
      "Train loss: 0.040,         Validation loss: 0.046,         Validation error: 0.014\n"
     ]
    }
   ],
   "source": [
    "# Epoch Training\n",
    "num_epochs = 30\n",
    "\n",
    "best_verror = 1_000_000\n",
    "\n",
    "for epoch in tqdm(range(num_epochs)):\n",
    "    \n",
    "    # Inner training loop\n",
    "    avg_loss = train_epoch(\n",
    "        model, train_loader,\n",
    "        optimizer=optimizer,\n",
    "        criterion=criterion,\n",
    "        device=device\n",
    "    )\n",
    "    \n",
    "    # Inner validation loop\n",
    "    avg_vloss, avg_verror = validate(\n",
    "        model, val_loader, criterion=criterion, device=device)\n",
    "    \n",
    "    if avg_verror < best_verror:\n",
    "        best_verror = avg_verror\n",
    "        torch.save(model.state_dict(), \"best-model.pth\")\n",
    "        \n",
    "    tqdm.write(\n",
    "        f\"Train loss: {avg_loss:.3f}, \\\n",
    "        Validation loss: {avg_vloss:.3f}, \\\n",
    "        Validation error: {avg_verror:.3f}\")"
   ]
  },
  {
   "cell_type": "markdown",
   "id": "6f2c42bd-a1ea-4989-8795-2248e27c6ee4",
   "metadata": {
    "jupyter": {
     "outputs_hidden": true
    }
   },
   "source": [
    "## Pseudo-Rehearsals\n",
    "\n",
    "In pseudorehearsals, the new intervening data will be batched with randomly generated data. The target labels of the randomly generated data are generated by the model in the forward pass. In pseudo-rehearsal mechanism, we then backpropagate this batch as though it is a full dataset. The hope is that the randomly generated data and model generated labels will capture the function representation that was best describing the original training set. This mechanism has the advantage over rehearsal methods when the previous trained data are not available."
   ]
  },
  {
   "cell_type": "code",
   "execution_count": 7,
   "id": "42e5fe7e-d82c-4060-8aac-fa159940550e",
   "metadata": {},
   "outputs": [
    {
     "data": {
      "text/plain": [
       "Dataset CFMNIST\n",
       "    Number of datapoints: 5949\n",
       "    Root location: .\n",
       "    Split: Train\n",
       "    StandardTransform\n",
       "Transform: Compose(\n",
       "               ToTensor()\n",
       "               Pad(padding=2, fill=0, padding_mode=constant)\n",
       "           )"
      ]
     },
     "execution_count": 7,
     "metadata": {},
     "output_type": "execute_result"
    }
   ],
   "source": [
    "newtrainset = CFMNIST(\".\", download=True, transform=transforms, holdout=False)\n",
    "newtrainset"
   ]
  },
  {
   "cell_type": "code",
   "execution_count": 8,
   "id": "f0f39e16-a0ee-4c81-b1e6-b0d177a94f86",
   "metadata": {},
   "outputs": [],
   "source": [
    "newtrainloader = torch.utils.data.DataLoader(\n",
    "                    newtrainset, \n",
    "                    batch_size=4, \n",
    "                    shuffle=True,\n",
    "                    num_workers=1\n",
    "                )"
   ]
  },
  {
   "cell_type": "code",
   "execution_count": 52,
   "id": "2943ddb1-b5b3-4790-b65a-ed0a79d94ea0",
   "metadata": {},
   "outputs": [],
   "source": [
    "# Rehearsal is like a epoch training loop.\n",
    "# We only batch the data differently\n",
    "def pseudo_rehearse(\n",
    "        model, trainloader, valloader,\n",
    "        optimizer=None,\n",
    "        criterion=torch.nn.CrossEntropyLoss(),\n",
    "        device=torch.device(\"cpu\"),\n",
    "        factor=3\n",
    "    ):\n",
    "    \n",
    "    model = model.to(device)\n",
    "\n",
    "    running_vloss = []\n",
    "    running_verror = []\n",
    "    data_size = len(trainloader)\n",
    "\n",
    "    if not optimizer:\n",
    "        # Default optimizer if one is not provided\n",
    "        optimizer = torch.optim.SGD(model.parameters(), lr=0.001, momentum=0.9)\n",
    "    \n",
    "    for i, data in tqdm(enumerate(trainloader), total=data_size):\n",
    "        # Load the new data in minibatch\n",
    "        imgs, labels = data\n",
    "        n, c, H, W = imgs.size()\n",
    "        \n",
    "        # Generate random tensors for pseudo rehearsals\n",
    "        # Note, in future it might be better to train on logits\n",
    "        # instead of labels. Also need to solve why all labels are 8\n",
    "        rand_imgs = torch.rand(n * factor, c, H, W)\n",
    "        rand_logits = model(rand_imgs.to(device))\n",
    "        rand_labels = torch.argmax(torch.softmax(rand_logits, dim=1), dim=1)\n",
    "        imgs = torch.cat((imgs, rand_imgs), dim=0)\n",
    "        labels = torch.cat((labels, rand_labels.cpu()))\n",
    "        \n",
    "        # Shuffle the data and labels\n",
    "        indices = torch.randperm(len(labels))\n",
    "        imgs = imgs[indices]\n",
    "        labels = labels[indices]\n",
    "        \n",
    "        optimizer.zero_grad()\n",
    "        \n",
    "        # Forward pass\n",
    "        outputs = model(imgs.to(device))\n",
    "        \n",
    "        # Compute loss and backpropagate error gradients\n",
    "        loss = criterion(outputs, labels.to(device))\n",
    "        loss.backward()\n",
    "        \n",
    "        # Gradient descent\n",
    "        optimizer.step()\n",
    "        \n",
    "        # Validate model performance degradation\n",
    "        vloss, verror = validate(\n",
    "            model, valloader, criterion=criterion, device=device)\n",
    "        \n",
    "        running_vloss.append(vloss)\n",
    "        running_verror.append(verror)\n",
    "        \n",
    "    return running_vloss, running_verror"
   ]
  },
  {
   "cell_type": "code",
   "execution_count": null,
   "id": "bb42c035-cd5a-415c-b4b8-9d2d6a2bc770",
   "metadata": {},
   "outputs": [],
   "source": [
    "# Pseudo Rehearsal\n",
    "pseudo_rehearse(model, newtrainloader, val_loader, criterion=criterion, device=device)"
   ]
  }
 ],
 "metadata": {
  "kernelspec": {
   "display_name": "Python 3 (ipykernel)",
   "language": "python",
   "name": "python3"
  },
  "language_info": {
   "codemirror_mode": {
    "name": "ipython",
    "version": 3
   },
   "file_extension": ".py",
   "mimetype": "text/x-python",
   "name": "python",
   "nbconvert_exporter": "python",
   "pygments_lexer": "ipython3",
   "version": "3.10.4"
  }
 },
 "nbformat": 4,
 "nbformat_minor": 5
}
