{
 "cells": [
  {
   "cell_type": "markdown",
   "id": "b774f374-76d3-4e78-a427-656285110a71",
   "metadata": {},
   "source": [
    "# Rehearsal Mechanisms\n",
    "\n",
    "## Introduction\n",
    "\n",
    "The rehearsal mechanism is described by Robbins (1995) as a mechanism to mitigate the effects of catastrophic forgetting. They even went as far as postulating that this mechanism is what the human brain used to learn, through replaying old data along with new data during dreaming in sleep. In this notebook, we will explore the effects of rehearsal and pseudorehearsals on a model that is trained to do MNIST digit classification."
   ]
  },
  {
   "cell_type": "code",
   "execution_count": 1,
   "id": "ebaa5afb-9c2c-424c-9c2f-579b648b05d7",
   "metadata": {
    "tags": []
   },
   "outputs": [],
   "source": [
    "# As always, we start with package imports\n",
    "import copy\n",
    "import torch\n",
    "import torch.nn as nn\n",
    "import numpy as np\n",
    "import torchvision\n",
    "from torchvision.transforms import ToTensor, Compose, Pad\n",
    "from tqdm.notebook import tqdm\n",
    "\n",
    "# From my pytorch-patterns package\n",
    "from patterns.utils import train_epoch, calculate_error, validate"
   ]
  },
  {
   "cell_type": "markdown",
   "id": "b925d004-284f-4d63-b85c-39aaa1c2bcbc",
   "metadata": {},
   "source": [
    "## Customize Dataset\n",
    "\n",
    "Unlike classification tasks, we can't just use the MNIST dataset as is. To investigate catastrophic forgetting, we need to holdout the samples of 1 class of labels. To do this, we need to build a new PyTorch dataset."
   ]
  },
  {
   "cell_type": "code",
   "execution_count": 2,
   "id": "7bdf7acb-8ea6-443e-a707-b77b31dba69c",
   "metadata": {
    "tags": []
   },
   "outputs": [],
   "source": [
    "class CFMNIST(torchvision.datasets.MNIST):\n",
    "    \n",
    "    def __init__(\n",
    "        self, root, \n",
    "        train=True, \n",
    "        download=False, \n",
    "        transform=None, \n",
    "        target_transform=None,\n",
    "        holdout_label=9,\n",
    "        holdout=True,\n",
    "    ):\n",
    "        super().__init__(\n",
    "            root, \n",
    "            train=train, \n",
    "            download=download, \n",
    "            transform=transform, \n",
    "            target_transform=target_transform\n",
    "        )\n",
    "        \n",
    "        imgs, labels = self._load_data()\n",
    "        \n",
    "        if holdout:\n",
    "            mask = labels != holdout_label\n",
    "        else:\n",
    "            mask = labels == holdout_label\n",
    "            \n",
    "        self.data = imgs[mask]\n",
    "        self.targets = labels[mask]"
   ]
  },
  {
   "cell_type": "code",
   "execution_count": 3,
   "id": "2a2139fd-fcb8-4b17-b22b-6ebef1c2e752",
   "metadata": {
    "tags": []
   },
   "outputs": [
    {
     "name": "stdout",
     "output_type": "stream",
     "text": [
      "Dataset CFMNIST\n",
      "    Number of datapoints: 54051\n",
      "    Root location: .\n",
      "    Split: Train\n",
      "    StandardTransform\n",
      "Transform: Compose(\n",
      "               ToTensor()\n",
      "               Pad(padding=2, fill=0, padding_mode=constant)\n",
      "           )\n",
      "Dataset CFMNIST\n",
      "    Number of datapoints: 8991\n",
      "    Root location: .\n",
      "    Split: Test\n",
      "    StandardTransform\n",
      "Transform: Compose(\n",
      "               ToTensor()\n",
      "               Pad(padding=2, fill=0, padding_mode=constant)\n",
      "           )\n"
     ]
    }
   ],
   "source": [
    "transforms = Compose([\n",
    "    ToTensor(),\n",
    "    Pad(2)\n",
    "])\n",
    "trainset = CFMNIST(\".\", download=True, transform=transforms)\n",
    "validationset = CFMNIST(\".\", download=True, train=False, transform=transforms)\n",
    "print(trainset)\n",
    "print(validationset)"
   ]
  },
  {
   "cell_type": "code",
   "execution_count": 4,
   "id": "77fae562-1d90-4691-9ae5-e8355315e60a",
   "metadata": {},
   "outputs": [],
   "source": [
    "train_loader = torch.utils.data.DataLoader(\n",
    "                    trainset, \n",
    "                    batch_size=64, \n",
    "                    shuffle=True,\n",
    "                    num_workers=2\n",
    "                )\n",
    "\n",
    "val_loader = torch.utils.data.DataLoader(\n",
    "                    validationset, \n",
    "                    batch_size=64, \n",
    "                    shuffle=True,\n",
    "                    num_workers=2\n",
    "                )\n",
    "device = torch.device(\"cuda:0\" if torch.cuda.is_available() else \"cpu\")"
   ]
  },
  {
   "cell_type": "markdown",
   "id": "f31e46a5-604a-49c2-b423-786c564cfa01",
   "metadata": {},
   "source": [
    "## Training LeNet5\n",
    "\n",
    "Next, we pre-train a LeNet5 while holding out the label 9 to get a model that can classify MNIST 0 - 8. We store the best model based."
   ]
  },
  {
   "cell_type": "code",
   "execution_count": 5,
   "id": "18c30ff9-e7d9-4d56-9f64-0d5d888768bc",
   "metadata": {
    "tags": []
   },
   "outputs": [],
   "source": [
    "class LeNet(nn.Module):\n",
    "    \n",
    "    def __init__(self):\n",
    "        super(LeNet, self).__init__()\n",
    "        self.convnet = nn.Sequential(\n",
    "            nn.Conv2d(in_channels=1, out_channels=6, kernel_size=5),\n",
    "            nn.ReLU(inplace=True),\n",
    "            nn.AvgPool2d(kernel_size=2, stride=2),\n",
    "            nn.Conv2d(in_channels=6, out_channels=16, kernel_size=5),\n",
    "            nn.ReLU(inplace=True),\n",
    "            nn.AvgPool2d(kernel_size=2, stride=2),\n",
    "            nn.Conv2d(in_channels=16, out_channels=120, kernel_size=5),\n",
    "            nn.ReLU(inplace=True),\n",
    "        )\n",
    "        \n",
    "        self.fc1 = nn.Linear(in_features=120, out_features=84)\n",
    "        self.fc2 = nn.Linear(in_features=84, out_features=10)\n",
    "        \n",
    "    def forward(self, img):\n",
    "        X = self.convnet(img)\n",
    "        X = torch.flatten(X, start_dim=1)\n",
    "        X = self.fc1(X)\n",
    "        X = nn.functional.relu(X)\n",
    "        X = self.fc2(X)\n",
    "        return X"
   ]
  },
  {
   "cell_type": "markdown",
   "id": "b7fec666-dbf7-4f59-9907-dd6762ccbb10",
   "metadata": {},
   "source": [
    "### Model Pre-training\n",
    "\n",
    "In the next section, we will pre-train the model to recognize 0 - 8. If a trained model is already available, we should skip to the next section on rehearsals,"
   ]
  },
  {
   "cell_type": "code",
   "execution_count": 6,
   "id": "81491906-8186-474f-8844-00f3338f7355",
   "metadata": {
    "tags": []
   },
   "outputs": [],
   "source": [
    "# Setup training\n",
    "model = LeNet().to(device)\n",
    "criterion = torch.nn.CrossEntropyLoss()\n",
    "optimizer = torch.optim.SGD(model.parameters(), lr=0.001, momentum=0.9)"
   ]
  },
  {
   "cell_type": "code",
   "execution_count": 7,
   "id": "ec7c1ee3-0c4b-4bbb-899d-1e21caa3d9d7",
   "metadata": {
    "tags": []
   },
   "outputs": [
    {
     "data": {
      "application/vnd.jupyter.widget-view+json": {
       "model_id": "0de8ac19e4594ee7b851517cd35c85a7",
       "version_major": 2,
       "version_minor": 0
      },
      "text/plain": [
       "  0%|          | 0/40 [00:00<?, ?it/s]"
      ]
     },
     "metadata": {},
     "output_type": "display_data"
    },
    {
     "data": {
      "application/vnd.jupyter.widget-view+json": {
       "model_id": "ad5975afda204f76b73367cb1466e682",
       "version_major": 2,
       "version_minor": 0
      },
      "text/plain": [
       "  0%|          | 0/845 [00:00<?, ?it/s]"
      ]
     },
     "metadata": {},
     "output_type": "display_data"
    },
    {
     "name": "stdout",
     "output_type": "stream",
     "text": [
      "Epoch: 0, Train loss: 2.264, Validation loss: 2.224, Validation error: 0.795\n"
     ]
    },
    {
     "data": {
      "application/vnd.jupyter.widget-view+json": {
       "model_id": "a89fb4501d564a3783cf9cd0a6c29b77",
       "version_major": 2,
       "version_minor": 0
      },
      "text/plain": [
       "  0%|          | 0/845 [00:00<?, ?it/s]"
      ]
     },
     "metadata": {},
     "output_type": "display_data"
    },
    {
     "name": "stdout",
     "output_type": "stream",
     "text": [
      "Epoch: 1, Train loss: 1.681, Validation loss: 0.522, Validation error: 0.159\n"
     ]
    },
    {
     "data": {
      "application/vnd.jupyter.widget-view+json": {
       "model_id": "c6cbc9754c804f87b6169d4103f5cfdd",
       "version_major": 2,
       "version_minor": 0
      },
      "text/plain": [
       "  0%|          | 0/845 [00:00<?, ?it/s]"
      ]
     },
     "metadata": {},
     "output_type": "display_data"
    },
    {
     "name": "stdout",
     "output_type": "stream",
     "text": [
      "Epoch: 2, Train loss: 0.375, Validation loss: 0.272, Validation error: 0.086\n"
     ]
    },
    {
     "data": {
      "application/vnd.jupyter.widget-view+json": {
       "model_id": "896cbe85cb154902ba7d05c67c9da826",
       "version_major": 2,
       "version_minor": 0
      },
      "text/plain": [
       "  0%|          | 0/845 [00:00<?, ?it/s]"
      ]
     },
     "metadata": {},
     "output_type": "display_data"
    },
    {
     "name": "stdout",
     "output_type": "stream",
     "text": [
      "Epoch: 3, Train loss: 0.258, Validation loss: 0.212, Validation error: 0.066\n"
     ]
    },
    {
     "data": {
      "application/vnd.jupyter.widget-view+json": {
       "model_id": "e05846627f63458ab18fde2fdd41d305",
       "version_major": 2,
       "version_minor": 0
      },
      "text/plain": [
       "  0%|          | 0/845 [00:00<?, ?it/s]"
      ]
     },
     "metadata": {},
     "output_type": "display_data"
    },
    {
     "name": "stdout",
     "output_type": "stream",
     "text": [
      "Epoch: 4, Train loss: 0.206, Validation loss: 0.167, Validation error: 0.049\n"
     ]
    },
    {
     "data": {
      "application/vnd.jupyter.widget-view+json": {
       "model_id": "8a1d8c37f3b04a26ba48c22379df8ed2",
       "version_major": 2,
       "version_minor": 0
      },
      "text/plain": [
       "  0%|          | 0/845 [00:00<?, ?it/s]"
      ]
     },
     "metadata": {},
     "output_type": "display_data"
    },
    {
     "name": "stdout",
     "output_type": "stream",
     "text": [
      "Epoch: 5, Train loss: 0.168, Validation loss: 0.138, Validation error: 0.041\n"
     ]
    },
    {
     "data": {
      "application/vnd.jupyter.widget-view+json": {
       "model_id": "a49246a49a7349cfa1028c603d9a0379",
       "version_major": 2,
       "version_minor": 0
      },
      "text/plain": [
       "  0%|          | 0/845 [00:00<?, ?it/s]"
      ]
     },
     "metadata": {},
     "output_type": "display_data"
    },
    {
     "name": "stdout",
     "output_type": "stream",
     "text": [
      "Epoch: 6, Train loss: 0.146, Validation loss: 0.124, Validation error: 0.038\n"
     ]
    },
    {
     "data": {
      "application/vnd.jupyter.widget-view+json": {
       "model_id": "d790fefdc95c434293a3b59b1c07e950",
       "version_major": 2,
       "version_minor": 0
      },
      "text/plain": [
       "  0%|          | 0/845 [00:00<?, ?it/s]"
      ]
     },
     "metadata": {},
     "output_type": "display_data"
    },
    {
     "name": "stdout",
     "output_type": "stream",
     "text": [
      "Epoch: 7, Train loss: 0.128, Validation loss: 0.115, Validation error: 0.035\n"
     ]
    },
    {
     "data": {
      "application/vnd.jupyter.widget-view+json": {
       "model_id": "5cc64a7f979f46a18f38800782c6b03c",
       "version_major": 2,
       "version_minor": 0
      },
      "text/plain": [
       "  0%|          | 0/845 [00:00<?, ?it/s]"
      ]
     },
     "metadata": {},
     "output_type": "display_data"
    },
    {
     "name": "stdout",
     "output_type": "stream",
     "text": [
      "Epoch: 8, Train loss: 0.115, Validation loss: 0.106, Validation error: 0.033\n"
     ]
    },
    {
     "data": {
      "application/vnd.jupyter.widget-view+json": {
       "model_id": "76d1d9a74336441a8f9aec586f7464af",
       "version_major": 2,
       "version_minor": 0
      },
      "text/plain": [
       "  0%|          | 0/845 [00:00<?, ?it/s]"
      ]
     },
     "metadata": {},
     "output_type": "display_data"
    },
    {
     "name": "stdout",
     "output_type": "stream",
     "text": [
      "Epoch: 9, Train loss: 0.106, Validation loss: 0.092, Validation error: 0.029\n"
     ]
    },
    {
     "data": {
      "application/vnd.jupyter.widget-view+json": {
       "model_id": "cbfd1af8bae44f3883dec87b7bae5924",
       "version_major": 2,
       "version_minor": 0
      },
      "text/plain": [
       "  0%|          | 0/845 [00:00<?, ?it/s]"
      ]
     },
     "metadata": {},
     "output_type": "display_data"
    },
    {
     "name": "stdout",
     "output_type": "stream",
     "text": [
      "Epoch: 10, Train loss: 0.097, Validation loss: 0.092, Validation error: 0.028\n"
     ]
    },
    {
     "data": {
      "application/vnd.jupyter.widget-view+json": {
       "model_id": "f8a06270942a490bb8e7cbe26fa615b2",
       "version_major": 2,
       "version_minor": 0
      },
      "text/plain": [
       "  0%|          | 0/845 [00:00<?, ?it/s]"
      ]
     },
     "metadata": {},
     "output_type": "display_data"
    },
    {
     "name": "stdout",
     "output_type": "stream",
     "text": [
      "Epoch: 11, Train loss: 0.090, Validation loss: 0.079, Validation error: 0.025\n"
     ]
    },
    {
     "data": {
      "application/vnd.jupyter.widget-view+json": {
       "model_id": "a7e7b3ffc072455fa14b252504ff01eb",
       "version_major": 2,
       "version_minor": 0
      },
      "text/plain": [
       "  0%|          | 0/845 [00:00<?, ?it/s]"
      ]
     },
     "metadata": {},
     "output_type": "display_data"
    },
    {
     "name": "stdout",
     "output_type": "stream",
     "text": [
      "Epoch: 12, Train loss: 0.083, Validation loss: 0.078, Validation error: 0.025\n"
     ]
    },
    {
     "data": {
      "application/vnd.jupyter.widget-view+json": {
       "model_id": "a511b9a45ad94a5aa81952eb68f7a66b",
       "version_major": 2,
       "version_minor": 0
      },
      "text/plain": [
       "  0%|          | 0/845 [00:00<?, ?it/s]"
      ]
     },
     "metadata": {},
     "output_type": "display_data"
    },
    {
     "name": "stdout",
     "output_type": "stream",
     "text": [
      "Epoch: 13, Train loss: 0.078, Validation loss: 0.075, Validation error: 0.023\n"
     ]
    },
    {
     "data": {
      "application/vnd.jupyter.widget-view+json": {
       "model_id": "05b0da085e1e44febf3311e360312ac3",
       "version_major": 2,
       "version_minor": 0
      },
      "text/plain": [
       "  0%|          | 0/845 [00:00<?, ?it/s]"
      ]
     },
     "metadata": {},
     "output_type": "display_data"
    },
    {
     "name": "stdout",
     "output_type": "stream",
     "text": [
      "Epoch: 14, Train loss: 0.073, Validation loss: 0.069, Validation error: 0.022\n"
     ]
    },
    {
     "data": {
      "application/vnd.jupyter.widget-view+json": {
       "model_id": "653bdf53c26c4ee7933887493c825582",
       "version_major": 2,
       "version_minor": 0
      },
      "text/plain": [
       "  0%|          | 0/845 [00:00<?, ?it/s]"
      ]
     },
     "metadata": {},
     "output_type": "display_data"
    },
    {
     "name": "stdout",
     "output_type": "stream",
     "text": [
      "Epoch: 15, Train loss: 0.070, Validation loss: 0.064, Validation error: 0.020\n"
     ]
    },
    {
     "data": {
      "application/vnd.jupyter.widget-view+json": {
       "model_id": "df50eea8be494d4c9c38560f7a38f1d1",
       "version_major": 2,
       "version_minor": 0
      },
      "text/plain": [
       "  0%|          | 0/845 [00:00<?, ?it/s]"
      ]
     },
     "metadata": {},
     "output_type": "display_data"
    },
    {
     "name": "stdout",
     "output_type": "stream",
     "text": [
      "Epoch: 16, Train loss: 0.066, Validation loss: 0.065, Validation error: 0.021\n"
     ]
    },
    {
     "data": {
      "application/vnd.jupyter.widget-view+json": {
       "model_id": "c789c73c7b334d148aa2c32191e50dac",
       "version_major": 2,
       "version_minor": 0
      },
      "text/plain": [
       "  0%|          | 0/845 [00:00<?, ?it/s]"
      ]
     },
     "metadata": {},
     "output_type": "display_data"
    },
    {
     "name": "stdout",
     "output_type": "stream",
     "text": [
      "Epoch: 17, Train loss: 0.062, Validation loss: 0.058, Validation error: 0.017\n"
     ]
    },
    {
     "data": {
      "application/vnd.jupyter.widget-view+json": {
       "model_id": "334fae10258f45c58f35439cb679ca42",
       "version_major": 2,
       "version_minor": 0
      },
      "text/plain": [
       "  0%|          | 0/845 [00:00<?, ?it/s]"
      ]
     },
     "metadata": {},
     "output_type": "display_data"
    },
    {
     "name": "stdout",
     "output_type": "stream",
     "text": [
      "Epoch: 18, Train loss: 0.060, Validation loss: 0.061, Validation error: 0.019\n"
     ]
    },
    {
     "data": {
      "application/vnd.jupyter.widget-view+json": {
       "model_id": "1a1f82bc62fd4369b395e5a7d9640af8",
       "version_major": 2,
       "version_minor": 0
      },
      "text/plain": [
       "  0%|          | 0/845 [00:00<?, ?it/s]"
      ]
     },
     "metadata": {},
     "output_type": "display_data"
    },
    {
     "name": "stdout",
     "output_type": "stream",
     "text": [
      "Epoch: 19, Train loss: 0.057, Validation loss: 0.060, Validation error: 0.019\n"
     ]
    },
    {
     "data": {
      "application/vnd.jupyter.widget-view+json": {
       "model_id": "ff6165a7367443559654867adf949539",
       "version_major": 2,
       "version_minor": 0
      },
      "text/plain": [
       "  0%|          | 0/845 [00:00<?, ?it/s]"
      ]
     },
     "metadata": {},
     "output_type": "display_data"
    },
    {
     "name": "stdout",
     "output_type": "stream",
     "text": [
      "Epoch: 20, Train loss: 0.055, Validation loss: 0.052, Validation error: 0.017\n"
     ]
    },
    {
     "data": {
      "application/vnd.jupyter.widget-view+json": {
       "model_id": "014f211312ee43fc81ffaa203f805630",
       "version_major": 2,
       "version_minor": 0
      },
      "text/plain": [
       "  0%|          | 0/845 [00:00<?, ?it/s]"
      ]
     },
     "metadata": {},
     "output_type": "display_data"
    },
    {
     "name": "stdout",
     "output_type": "stream",
     "text": [
      "Epoch: 21, Train loss: 0.052, Validation loss: 0.053, Validation error: 0.017\n"
     ]
    },
    {
     "data": {
      "application/vnd.jupyter.widget-view+json": {
       "model_id": "8ffb7e3b9c1c46a1b6296efcf4a12890",
       "version_major": 2,
       "version_minor": 0
      },
      "text/plain": [
       "  0%|          | 0/845 [00:00<?, ?it/s]"
      ]
     },
     "metadata": {},
     "output_type": "display_data"
    },
    {
     "name": "stdout",
     "output_type": "stream",
     "text": [
      "Epoch: 22, Train loss: 0.050, Validation loss: 0.052, Validation error: 0.016\n"
     ]
    },
    {
     "data": {
      "application/vnd.jupyter.widget-view+json": {
       "model_id": "2d0357a6ed3c441192d45896edd421c8",
       "version_major": 2,
       "version_minor": 0
      },
      "text/plain": [
       "  0%|          | 0/845 [00:00<?, ?it/s]"
      ]
     },
     "metadata": {},
     "output_type": "display_data"
    },
    {
     "name": "stdout",
     "output_type": "stream",
     "text": [
      "Epoch: 23, Train loss: 0.047, Validation loss: 0.049, Validation error: 0.016\n"
     ]
    },
    {
     "data": {
      "application/vnd.jupyter.widget-view+json": {
       "model_id": "2c1146e557ce4253ac4989e60b6ed043",
       "version_major": 2,
       "version_minor": 0
      },
      "text/plain": [
       "  0%|          | 0/845 [00:00<?, ?it/s]"
      ]
     },
     "metadata": {},
     "output_type": "display_data"
    },
    {
     "name": "stdout",
     "output_type": "stream",
     "text": [
      "Epoch: 24, Train loss: 0.046, Validation loss: 0.047, Validation error: 0.015\n"
     ]
    },
    {
     "data": {
      "application/vnd.jupyter.widget-view+json": {
       "model_id": "c945c5dbd1854e5e98d2a1212b50ac35",
       "version_major": 2,
       "version_minor": 0
      },
      "text/plain": [
       "  0%|          | 0/845 [00:00<?, ?it/s]"
      ]
     },
     "metadata": {},
     "output_type": "display_data"
    },
    {
     "name": "stdout",
     "output_type": "stream",
     "text": [
      "Epoch: 25, Train loss: 0.044, Validation loss: 0.049, Validation error: 0.015\n"
     ]
    },
    {
     "data": {
      "application/vnd.jupyter.widget-view+json": {
       "model_id": "9adff785599d4b60a59d2db4d2fc9e0f",
       "version_major": 2,
       "version_minor": 0
      },
      "text/plain": [
       "  0%|          | 0/845 [00:00<?, ?it/s]"
      ]
     },
     "metadata": {},
     "output_type": "display_data"
    },
    {
     "name": "stdout",
     "output_type": "stream",
     "text": [
      "Epoch: 26, Train loss: 0.042, Validation loss: 0.053, Validation error: 0.017\n"
     ]
    },
    {
     "data": {
      "application/vnd.jupyter.widget-view+json": {
       "model_id": "656d39396f2a45ee9b3c63e38a914534",
       "version_major": 2,
       "version_minor": 0
      },
      "text/plain": [
       "  0%|          | 0/845 [00:00<?, ?it/s]"
      ]
     },
     "metadata": {},
     "output_type": "display_data"
    },
    {
     "name": "stdout",
     "output_type": "stream",
     "text": [
      "Epoch: 27, Train loss: 0.041, Validation loss: 0.047, Validation error: 0.015\n"
     ]
    },
    {
     "data": {
      "application/vnd.jupyter.widget-view+json": {
       "model_id": "0ff1bb8e00df40f287659ac0b5f50f5e",
       "version_major": 2,
       "version_minor": 0
      },
      "text/plain": [
       "  0%|          | 0/845 [00:00<?, ?it/s]"
      ]
     },
     "metadata": {},
     "output_type": "display_data"
    },
    {
     "name": "stdout",
     "output_type": "stream",
     "text": [
      "Epoch: 28, Train loss: 0.040, Validation loss: 0.052, Validation error: 0.017\n"
     ]
    },
    {
     "data": {
      "application/vnd.jupyter.widget-view+json": {
       "model_id": "e239bf074a1c413aa094e46185e87897",
       "version_major": 2,
       "version_minor": 0
      },
      "text/plain": [
       "  0%|          | 0/845 [00:00<?, ?it/s]"
      ]
     },
     "metadata": {},
     "output_type": "display_data"
    },
    {
     "name": "stdout",
     "output_type": "stream",
     "text": [
      "Epoch: 29, Train loss: 0.039, Validation loss: 0.042, Validation error: 0.013\n"
     ]
    },
    {
     "data": {
      "application/vnd.jupyter.widget-view+json": {
       "model_id": "b8071e2da31949c0937d8f00c6ceb68c",
       "version_major": 2,
       "version_minor": 0
      },
      "text/plain": [
       "  0%|          | 0/845 [00:00<?, ?it/s]"
      ]
     },
     "metadata": {},
     "output_type": "display_data"
    },
    {
     "name": "stdout",
     "output_type": "stream",
     "text": [
      "Epoch: 30, Train loss: 0.037, Validation loss: 0.043, Validation error: 0.014\n"
     ]
    },
    {
     "data": {
      "application/vnd.jupyter.widget-view+json": {
       "model_id": "cf9fc40536d84a78a21d11b4931cacb5",
       "version_major": 2,
       "version_minor": 0
      },
      "text/plain": [
       "  0%|          | 0/845 [00:00<?, ?it/s]"
      ]
     },
     "metadata": {},
     "output_type": "display_data"
    },
    {
     "name": "stdout",
     "output_type": "stream",
     "text": [
      "Epoch: 31, Train loss: 0.035, Validation loss: 0.043, Validation error: 0.013\n"
     ]
    },
    {
     "data": {
      "application/vnd.jupyter.widget-view+json": {
       "model_id": "8cc849028682482b8202152aa866ea30",
       "version_major": 2,
       "version_minor": 0
      },
      "text/plain": [
       "  0%|          | 0/845 [00:00<?, ?it/s]"
      ]
     },
     "metadata": {},
     "output_type": "display_data"
    },
    {
     "name": "stdout",
     "output_type": "stream",
     "text": [
      "Epoch: 32, Train loss: 0.034, Validation loss: 0.043, Validation error: 0.013\n"
     ]
    },
    {
     "data": {
      "application/vnd.jupyter.widget-view+json": {
       "model_id": "5a5ce00056c84b658fcf4b5952eab052",
       "version_major": 2,
       "version_minor": 0
      },
      "text/plain": [
       "  0%|          | 0/845 [00:00<?, ?it/s]"
      ]
     },
     "metadata": {},
     "output_type": "display_data"
    },
    {
     "name": "stdout",
     "output_type": "stream",
     "text": [
      "Epoch: 33, Train loss: 0.033, Validation loss: 0.040, Validation error: 0.012\n"
     ]
    },
    {
     "data": {
      "application/vnd.jupyter.widget-view+json": {
       "model_id": "e3e5696799784ccf93acd84c935c7bed",
       "version_major": 2,
       "version_minor": 0
      },
      "text/plain": [
       "  0%|          | 0/845 [00:00<?, ?it/s]"
      ]
     },
     "metadata": {},
     "output_type": "display_data"
    },
    {
     "name": "stdout",
     "output_type": "stream",
     "text": [
      "Epoch: 34, Train loss: 0.032, Validation loss: 0.041, Validation error: 0.012\n"
     ]
    },
    {
     "data": {
      "application/vnd.jupyter.widget-view+json": {
       "model_id": "131808389bff41ce805a20d68413ded6",
       "version_major": 2,
       "version_minor": 0
      },
      "text/plain": [
       "  0%|          | 0/845 [00:00<?, ?it/s]"
      ]
     },
     "metadata": {},
     "output_type": "display_data"
    },
    {
     "name": "stdout",
     "output_type": "stream",
     "text": [
      "Epoch: 35, Train loss: 0.031, Validation loss: 0.042, Validation error: 0.013\n"
     ]
    },
    {
     "data": {
      "application/vnd.jupyter.widget-view+json": {
       "model_id": "d97634c1330d46fe8d1f3943724dce83",
       "version_major": 2,
       "version_minor": 0
      },
      "text/plain": [
       "  0%|          | 0/845 [00:00<?, ?it/s]"
      ]
     },
     "metadata": {},
     "output_type": "display_data"
    },
    {
     "name": "stdout",
     "output_type": "stream",
     "text": [
      "Epoch: 36, Train loss: 0.030, Validation loss: 0.041, Validation error: 0.012\n"
     ]
    },
    {
     "data": {
      "application/vnd.jupyter.widget-view+json": {
       "model_id": "ddce72d3e3b14776a2201535eb42c276",
       "version_major": 2,
       "version_minor": 0
      },
      "text/plain": [
       "  0%|          | 0/845 [00:00<?, ?it/s]"
      ]
     },
     "metadata": {},
     "output_type": "display_data"
    },
    {
     "name": "stdout",
     "output_type": "stream",
     "text": [
      "Epoch: 37, Train loss: 0.030, Validation loss: 0.039, Validation error: 0.012\n"
     ]
    },
    {
     "data": {
      "application/vnd.jupyter.widget-view+json": {
       "model_id": "7baa6d579b1d4d05a7c2de5a9dbafccb",
       "version_major": 2,
       "version_minor": 0
      },
      "text/plain": [
       "  0%|          | 0/845 [00:00<?, ?it/s]"
      ]
     },
     "metadata": {},
     "output_type": "display_data"
    },
    {
     "name": "stdout",
     "output_type": "stream",
     "text": [
      "Epoch: 38, Train loss: 0.029, Validation loss: 0.037, Validation error: 0.011\n"
     ]
    },
    {
     "data": {
      "application/vnd.jupyter.widget-view+json": {
       "model_id": "730b22ba881f48cf95b5547a64ddbde9",
       "version_major": 2,
       "version_minor": 0
      },
      "text/plain": [
       "  0%|          | 0/845 [00:00<?, ?it/s]"
      ]
     },
     "metadata": {},
     "output_type": "display_data"
    },
    {
     "name": "stdout",
     "output_type": "stream",
     "text": [
      "Epoch: 39, Train loss: 0.028, Validation loss: 0.039, Validation error: 0.011\n"
     ]
    }
   ],
   "source": [
    "# Epoch Training\n",
    "num_epochs = 40\n",
    "\n",
    "best_verror = 1_000_000\n",
    "\n",
    "for epoch in tqdm(range(num_epochs)):\n",
    "    \n",
    "    # Inner training loop\n",
    "    avg_loss = train_epoch(\n",
    "        model, train_loader,\n",
    "        optimizer=optimizer,\n",
    "        criterion=criterion,\n",
    "        device=device\n",
    "    )\n",
    "    \n",
    "    # Inner validation loop\n",
    "    avg_vloss, avg_verror = validate(\n",
    "        model, val_loader, criterion=criterion, device=device)\n",
    "    \n",
    "    if avg_verror < best_verror:\n",
    "        best_verror = avg_verror\n",
    "        torch.save(model.state_dict(), \"best-model.pth\")\n",
    "        \n",
    "    tqdm.write(\n",
    "        f\"Epoch: {epoch}, \" \\\n",
    "        f\"Train loss: {avg_loss:.3f}, \" \\\n",
    "        f\"Validation loss: {avg_vloss:.3f}, \" \\\n",
    "        f\"Validation error: {avg_verror:.3f}\"\n",
    "    )"
   ]
  },
  {
   "cell_type": "markdown",
   "id": "6f2c42bd-a1ea-4989-8795-2248e27c6ee4",
   "metadata": {
    "jupyter": {
     "outputs_hidden": true
    }
   },
   "source": [
    "## Pseudo-Rehearsals\n",
    "\n",
    "In pseudorehearsals, the new intervening data will be batched with randomly generated data. The target labels of the randomly generated data are generated by the model in the forward pass. In pseudo-rehearsal mechanism, we then backpropagate this batch as though it is a full dataset. The hope is that the randomly generated data and model generated labels will capture the function representation that was best describing the original training set. This mechanism has the advantage over rehearsal methods when the previous trained data are not available."
   ]
  },
  {
   "cell_type": "code",
   "execution_count": 8,
   "id": "42e5fe7e-d82c-4060-8aac-fa159940550e",
   "metadata": {},
   "outputs": [
    {
     "data": {
      "text/plain": [
       "Dataset CFMNIST\n",
       "    Number of datapoints: 5949\n",
       "    Root location: .\n",
       "    Split: Train\n",
       "    StandardTransform\n",
       "Transform: Compose(\n",
       "               ToTensor()\n",
       "               Pad(padding=2, fill=0, padding_mode=constant)\n",
       "           )"
      ]
     },
     "execution_count": 8,
     "metadata": {},
     "output_type": "execute_result"
    }
   ],
   "source": [
    "newtrainset = CFMNIST(\".\", download=True, transform=transforms, holdout=False)\n",
    "newtrainset"
   ]
  },
  {
   "cell_type": "code",
   "execution_count": 9,
   "id": "f0f39e16-a0ee-4c81-b1e6-b0d177a94f86",
   "metadata": {},
   "outputs": [],
   "source": [
    "newtrainloader = torch.utils.data.DataLoader(\n",
    "                    newtrainset, \n",
    "                    batch_size=8, \n",
    "                    shuffle=True,\n",
    "                    num_workers=1\n",
    "                )"
   ]
  },
  {
   "cell_type": "code",
   "execution_count": 10,
   "id": "cfd6d717-2fae-4bc2-bf9c-a351d8791cd3",
   "metadata": {},
   "outputs": [],
   "source": [
    "# Initialize and load the pre-trained model\n",
    "model = LeNet()\n",
    "model.load_state_dict(torch.load(\"best-model.pth\"))\n",
    "model = model.to(device)\n",
    "criterion = torch.nn.CrossEntropyLoss()\n",
    "optimizer = torch.optim.SGD(model.parameters(), lr=0.001, momentum=0.9)"
   ]
  },
  {
   "cell_type": "code",
   "execution_count": 14,
   "id": "05d8fdce",
   "metadata": {},
   "outputs": [
    {
     "name": "stdout",
     "output_type": "stream",
     "text": [
      "Current loss:  0.037\n",
      "Current error:  0.011\n",
      "tensor([5.3113e-08, 2.5569e-13, 2.2814e-07, 2.8133e-06, 1.0543e-08, 1.2379e-08,\n",
      "        9.2678e-09, 6.2915e-11, 1.0000e+00, 1.7877e-13], device='cuda:0',\n",
      "       grad_fn=<SelectBackward0>)\n"
     ]
    }
   ],
   "source": [
    "# For sanity, let's validate that this model is good\n",
    "vloss, verror = validate(model, val_loader, criterion=criterion, device=device)\n",
    "print(f\"Current loss: {vloss: .3f}\")\n",
    "print(f\"Current error: {verror: .3f}\")\n",
    "rand_imgs = torch.rand(1, 1, 32, 32)\n",
    "rand_logits = model(rand_imgs.to(device))\n",
    "print(torch.softmax(rand_logits, dim=1)[0])"
   ]
  },
  {
   "cell_type": "code",
   "execution_count": 15,
   "id": "2943ddb1-b5b3-4790-b65a-ed0a79d94ea0",
   "metadata": {},
   "outputs": [],
   "source": [
    "# Rehearsal is like a epoch training loop.\n",
    "# We only batch the data differently.\n",
    "# This loop is slowed down due to the inner validation loop.\n",
    "def pseudo_rehearse(\n",
    "        model, trainloader,\n",
    "        optimizer=None,\n",
    "        criterion=torch.nn.CrossEntropyLoss(),\n",
    "        device=torch.device(\"cpu\"),\n",
    "        factor=3\n",
    "    ):\n",
    "    \n",
    "    running_loss = []\n",
    "    running_vloss = []\n",
    "    running_verror = []\n",
    "    \n",
    "    data_size = len(trainloader)\n",
    "    \n",
    "    # Make a copy of the model\n",
    "    old_model = copy.deepcopy(model)\n",
    "    \n",
    "    if not optimizer:\n",
    "        # Default optimizer if one is not provided\n",
    "        optimizer = torch.optim.SGD(model.parameters(), lr=0.001, momentum=0.9)\n",
    "    \n",
    "    for i, data in tqdm(enumerate(trainloader), total=data_size):\n",
    "        # Load the new data in minibatch\n",
    "        imgs, labels = data\n",
    "        n, c, H, W = imgs.size()\n",
    "        \n",
    "        # Generate random tensors for pseudo rehearsals\n",
    "        # Note: We should train on logits instead of labels,\n",
    "        # since some inherent bias of the old model always lead to the same label.\n",
    "        # We should also use old_model instead of model to generate the (img, logits) pair.\n",
    "        rand_imgs = torch.rand(n * factor, c, H, W)\n",
    "        rand_logits = old_model(rand_imgs.to(device))\n",
    "        rand_conf = torch.softmax(rand_logits, dim=1)\n",
    "        imgs = torch.cat((imgs, rand_imgs), dim=0)\n",
    "        conf = torch.nn.functional.one_hot(labels, 10)\n",
    "        labels = torch.cat((conf.to(device), rand_conf))\n",
    "        \n",
    "        # Shuffle the data and labels\n",
    "        indices = torch.randperm(len(labels))\n",
    "        imgs = imgs[indices]\n",
    "        labels = labels[indices]\n",
    "        \n",
    "        optimizer.zero_grad()\n",
    "        \n",
    "        # Forward pass\n",
    "        outputs = model(imgs.to(device))\n",
    "        \n",
    "        # Compute loss and backpropagate error gradients\n",
    "        loss = criterion(outputs, labels)\n",
    "        loss.backward()\n",
    "        \n",
    "        # Collate training loss\n",
    "        running_loss.append(loss.item())\n",
    "        \n",
    "        vloss, verror = validate(model, val_loader, criterion=criterion, device=device)\n",
    "        running_vloss.append(vloss)\n",
    "        running_verror.append(verror)\n",
    "        \n",
    "        # Gradient descent\n",
    "        optimizer.step()\n",
    "        \n",
    "    return running_loss, running_vloss, running_verror"
   ]
  },
  {
   "cell_type": "code",
   "execution_count": 16,
   "id": "bb42c035-cd5a-415c-b4b8-9d2d6a2bc770",
   "metadata": {},
   "outputs": [
    {
     "data": {
      "application/vnd.jupyter.widget-view+json": {
       "model_id": "56860bfd30034c36b61fd5e1ef002049",
       "version_major": 2,
       "version_minor": 0
      },
      "text/plain": [
       "  0%|          | 0/744 [00:00<?, ?it/s]"
      ]
     },
     "metadata": {},
     "output_type": "display_data"
    }
   ],
   "source": [
    "# Pseudo Rehearsal\n",
    "loss, vloss, verror = pseudo_rehearse(model, newtrainloader, optimizer=optimizer, criterion=criterion, device=device)"
   ]
  },
  {
   "cell_type": "code",
   "execution_count": 18,
   "id": "c9e58689-286d-42f1-89ee-872273b04f4d",
   "metadata": {},
   "outputs": [
    {
     "data": {
      "text/plain": [
       "[<matplotlib.lines.Line2D at 0x7fa9bd3c3040>]"
      ]
     },
     "execution_count": 18,
     "metadata": {},
     "output_type": "execute_result"
    },
    {
     "data": {
      "image/png": "[encoded data removed]",
      "text/plain": [
       "<Figure size 432x288 with 1 Axes>"
      ]
     },
     "metadata": {
      "needs_background": "light"
     },
     "output_type": "display_data"
    }
   ],
   "source": [
    "from matplotlib import pyplot as plt\n",
    "\n",
    "plt.plot(vloss)"
   ]
  },
  {
   "cell_type": "code",
   "execution_count": 19,
   "id": "cd575e56-b0c1-48c7-8460-1e4b2980a3d0",
   "metadata": {},
   "outputs": [
    {
     "data": {
      "text/plain": [
       "[<matplotlib.lines.Line2D at 0x7fa9bd23acb0>]"
      ]
     },
     "execution_count": 19,
     "metadata": {},
     "output_type": "execute_result"
    },
    {
     "data": {
      "image/png": "[encoded data removed]",
      "text/plain": [
       "<Figure size 432x288 with 1 Axes>"
      ]
     },
     "metadata": {
      "needs_background": "light"
     },
     "output_type": "display_data"
    }
   ],
   "source": [
    "plt.plot(verror)"
   ]
  },
  {
   "cell_type": "markdown",
   "id": "1b86d1a8-5fe0-472f-90df-f5973eb465d2",
   "metadata": {},
   "source": [
    "## Discussion\n",
    "\n",
    "Somehow pseudorehearsal doesn't work well at all. Model seems to be still not well calibrated. I think this is because I trained with a OHE of 10 labels instead of 9 labels. I need to re-design this. Even then, I am not entirely sure if calibration is the cause of this."
   ]
  },
  {
   "cell_type": "code",
   "execution_count": 22,
   "id": "dd4df9f6-e34f-4e8a-b5d1-739e92a3caa3",
   "metadata": {},
   "outputs": [],
   "source": [
    "model = LeNet()\n",
    "model.load_state_dict(torch.load(\"best-model.pth\"))\n",
    "model = model.to(device)\n",
    "rand_imgs = torch.rand(16, 1, 32, 32)\n",
    "rand_logits = model(rand_imgs.to(device))"
   ]
  },
  {
   "cell_type": "code",
   "execution_count": 24,
   "id": "1b908472-8038-431d-93a1-f7a28c83da04",
   "metadata": {},
   "outputs": [
    {
     "data": {
      "text/plain": [
       "tensor([[3.5504e-06, 7.9803e-14, 2.1039e-06, 6.7587e-07, 2.3229e-09, 2.4870e-07,\n",
       "         3.8513e-07, 9.5756e-13, 9.9999e-01, 7.5057e-14],\n",
       "        [9.8513e-02, 7.2803e-10, 4.8005e-04, 8.3719e-06, 1.1782e-07, 3.3840e-04,\n",
       "         1.4446e-04, 6.1818e-08, 9.0052e-01, 9.6415e-11],\n",
       "        [3.5831e-04, 5.9511e-10, 9.2333e-06, 3.0513e-06, 3.9464e-05, 6.3508e-06,\n",
       "         1.1961e-03, 6.8528e-10, 9.9839e-01, 1.2167e-11],\n",
       "        [5.8448e-03, 1.3575e-08, 4.7342e-04, 1.1688e-04, 4.8441e-04, 6.4110e-04,\n",
       "         2.4900e-03, 2.0255e-08, 9.8995e-01, 4.7631e-10],\n",
       "        [2.5622e-04, 5.5940e-12, 1.6408e-05, 8.7342e-06, 6.0757e-06, 6.3446e-07,\n",
       "         7.3036e-05, 3.8434e-10, 9.9964e-01, 4.7390e-12],\n",
       "        [2.5340e-02, 1.7398e-09, 1.8048e-04, 3.2941e-06, 1.0893e-04, 7.7149e-05,\n",
       "         1.7987e-03, 4.0372e-08, 9.7249e-01, 1.3292e-10],\n",
       "        [4.5024e-03, 1.4053e-11, 6.0729e-06, 1.5232e-06, 8.7810e-07, 2.6836e-05,\n",
       "         3.4106e-04, 2.4135e-09, 9.9512e-01, 1.0946e-11],\n",
       "        [8.0411e-04, 1.4307e-11, 6.9207e-06, 4.9995e-07, 1.3804e-07, 5.6766e-05,\n",
       "         2.3739e-04, 2.3609e-10, 9.9889e-01, 5.4346e-12],\n",
       "        [1.5345e-03, 6.1013e-12, 3.8738e-05, 9.8464e-07, 6.2740e-08, 1.3445e-06,\n",
       "         1.0684e-04, 6.6455e-11, 9.9832e-01, 3.5897e-12],\n",
       "        [1.6358e-02, 1.5167e-10, 1.5541e-04, 4.2873e-06, 4.0882e-07, 2.1779e-05,\n",
       "         7.2773e-05, 1.1656e-08, 9.8339e-01, 2.9455e-11],\n",
       "        [6.3416e-04, 1.9599e-09, 2.0887e-05, 3.3931e-06, 9.2626e-05, 1.7222e-05,\n",
       "         5.4876e-04, 1.1837e-08, 9.9868e-01, 3.1639e-11],\n",
       "        [5.6594e-04, 1.8466e-11, 1.7247e-05, 8.3356e-07, 1.0563e-06, 1.4710e-05,\n",
       "         1.6602e-05, 2.0195e-09, 9.9938e-01, 4.6455e-12],\n",
       "        [4.0257e-03, 5.6589e-11, 2.1502e-05, 9.2395e-07, 8.4061e-07, 4.0262e-07,\n",
       "         3.2240e-05, 2.1696e-09, 9.9592e-01, 6.7683e-12],\n",
       "        [3.4931e-03, 1.9904e-10, 1.6578e-05, 4.8480e-06, 7.6346e-06, 1.4751e-03,\n",
       "         2.8690e-03, 8.0625e-09, 9.9213e-01, 5.1757e-11],\n",
       "        [1.9225e-04, 1.8852e-09, 3.4392e-05, 1.8595e-05, 1.4196e-06, 3.3193e-04,\n",
       "         2.8154e-04, 1.1589e-09, 9.9914e-01, 5.9092e-11],\n",
       "        [2.5126e-05, 9.2550e-14, 1.8432e-06, 5.1269e-08, 1.1374e-09, 1.1924e-07,\n",
       "         1.1553e-06, 5.2048e-12, 9.9997e-01, 6.9229e-14]], device='cuda:0',\n",
       "       grad_fn=<SoftmaxBackward0>)"
      ]
     },
     "execution_count": 24,
     "metadata": {},
     "output_type": "execute_result"
    }
   ],
   "source": [
    "torch.softmax(rand_logits, dim=1)"
   ]
  },
  {
   "cell_type": "code",
   "execution_count": null,
   "id": "60fb1860-8259-4d6a-9fdf-8554a233949c",
   "metadata": {},
   "outputs": [],
   "source": []
  }
 ],
 "metadata": {
  "kernelspec": {
   "display_name": "Python 3 (ipykernel)",
   "language": "python",
   "name": "python3"
  },
  "language_info": {
   "codemirror_mode": {
    "name": "ipython",
    "version": 3
   },
   "file_extension": ".py",
   "mimetype": "text/x-python",
   "name": "python",
   "nbconvert_exporter": "python",
   "pygments_lexer": "ipython3",
   "version": "3.10.4"
  },
  "vscode": {
   "interpreter": {
    "hash": "3ce6a09607c1384388fce8eb3d5849b0a6ce7466a6defafc438b8b2fd16529f4"
   }
  }
 },
 "nbformat": 4,
 "nbformat_minor": 5
}
