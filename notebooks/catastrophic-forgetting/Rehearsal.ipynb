{
 "cells": [
  {
   "cell_type": "markdown",
   "id": "b774f374-76d3-4e78-a427-656285110a71",
   "metadata": {},
   "source": [
    "# Rehearsal Mechanisms\n",
    "\n",
    "## Introduction\n",
    "\n",
    "The rehearsal mechanism is described by Robbins (1995) as a mechanism to mitigate the effects of catastrophic forgetting. They even went as far as postulating that this mechanism is what the human brain used to learn, through replaying old data along with new data during dreaming in sleep. In this notebook, we will explore the effects of rehearsal and pseudorehearsals on a model that is trained to do MNIST digit classification."
   ]
  },
  {
   "cell_type": "code",
   "execution_count": 1,
   "id": "ebaa5afb-9c2c-424c-9c2f-579b648b05d7",
   "metadata": {
    "tags": []
   },
   "outputs": [],
   "source": [
    "# As always, we start with package imports\n",
    "import torch\n",
    "import torch.nn as nn\n",
    "import numpy as np\n",
    "import torchvision\n",
    "from torchvision.transforms import ToTensor, Compose, Pad\n",
    "from tqdm.notebook import tqdm\n",
    "\n",
    "# From my pytorch-patterns package\n",
    "from utils import train_epoch, calculate_error, validate"
   ]
  },
  {
   "cell_type": "markdown",
   "id": "b925d004-284f-4d63-b85c-39aaa1c2bcbc",
   "metadata": {},
   "source": [
    "## Customize Dataset\n",
    "\n",
    "Unlike classification tasks, we can't just use the MNIST dataset as is. To investigate catastrophic forgetting, we need to holdout the samples of 1 class of labels. To do this, we need to build a new PyTorch dataset."
   ]
  },
  {
   "cell_type": "code",
   "execution_count": 2,
   "id": "7bdf7acb-8ea6-443e-a707-b77b31dba69c",
   "metadata": {
    "tags": []
   },
   "outputs": [],
   "source": [
    "class CFMNIST(torchvision.datasets.MNIST):\n",
    "    \n",
    "    def __init__(\n",
    "        self, root, \n",
    "        train=True, \n",
    "        download=False, \n",
    "        transform=None, \n",
    "        target_transform=None,\n",
    "        holdout_label=9,\n",
    "        holdout=True,\n",
    "    ):\n",
    "        super().__init__(\n",
    "            root, \n",
    "            train=train, \n",
    "            download=download, \n",
    "            transform=transform, \n",
    "            target_transform=target_transform\n",
    "        )\n",
    "        \n",
    "        imgs, labels = self._load_data()\n",
    "        \n",
    "        if holdout:\n",
    "            mask = labels != holdout_label\n",
    "        else:\n",
    "            mask = labels == holdout_label\n",
    "            \n",
    "        self.data = imgs[mask]\n",
    "        self.targets = labels[mask]"
   ]
  },
  {
   "cell_type": "code",
   "execution_count": 3,
   "id": "2a2139fd-fcb8-4b17-b22b-6ebef1c2e752",
   "metadata": {
    "tags": []
   },
   "outputs": [
    {
     "name": "stdout",
     "output_type": "stream",
     "text": [
      "Dataset CFMNIST\n",
      "    Number of datapoints: 54051\n",
      "    Root location: .\n",
      "    Split: Train\n",
      "    StandardTransform\n",
      "Transform: Compose(\n",
      "               ToTensor()\n",
      "               Pad(padding=2, fill=0, padding_mode=constant)\n",
      "           )\n",
      "Dataset CFMNIST\n",
      "    Number of datapoints: 8991\n",
      "    Root location: .\n",
      "    Split: Test\n",
      "    StandardTransform\n",
      "Transform: Compose(\n",
      "               ToTensor()\n",
      "               Pad(padding=2, fill=0, padding_mode=constant)\n",
      "           )\n"
     ]
    }
   ],
   "source": [
    "transforms = Compose([\n",
    "    ToTensor(),\n",
    "    Pad(2)\n",
    "])\n",
    "trainset = CFMNIST(\".\", download=True, transform=transforms)\n",
    "validationset = CFMNIST(\".\", download=True, train=False, transform=transforms)\n",
    "print(trainset)\n",
    "print(validationset)"
   ]
  },
  {
   "cell_type": "code",
   "execution_count": 4,
   "id": "77fae562-1d90-4691-9ae5-e8355315e60a",
   "metadata": {},
   "outputs": [],
   "source": [
    "train_loader = torch.utils.data.DataLoader(\n",
    "                    trainset, \n",
    "                    batch_size=64, \n",
    "                    shuffle=True,\n",
    "                    num_workers=2\n",
    "                )\n",
    "\n",
    "val_loader = torch.utils.data.DataLoader(\n",
    "                    validationset, \n",
    "                    batch_size=64, \n",
    "                    shuffle=True,\n",
    "                    num_workers=2\n",
    "                )\n",
    "device = torch.device(\"cuda:0\" if torch.cuda.is_available() else \"cpu\")"
   ]
  },
  {
   "cell_type": "markdown",
   "id": "f31e46a5-604a-49c2-b423-786c564cfa01",
   "metadata": {},
   "source": [
    "## Training LeNet5\n",
    "\n",
    "Next, we pre-train a LeNet5 while holding out the label 9 to get a model that can classify MNIST 0 - 8. We store the best model based."
   ]
  },
  {
   "cell_type": "code",
   "execution_count": 5,
   "id": "18c30ff9-e7d9-4d56-9f64-0d5d888768bc",
   "metadata": {
    "tags": []
   },
   "outputs": [],
   "source": [
    "class LeNet(nn.Module):\n",
    "    \n",
    "    def __init__(self):\n",
    "        super(LeNet, self).__init__()\n",
    "        self.convnet = nn.Sequential(\n",
    "            nn.Conv2d(in_channels=1, out_channels=6, kernel_size=5),\n",
    "            nn.ReLU(inplace=True),\n",
    "            nn.AvgPool2d(kernel_size=2, stride=2),\n",
    "            nn.Conv2d(in_channels=6, out_channels=16, kernel_size=5),\n",
    "            nn.ReLU(inplace=True),\n",
    "            nn.AvgPool2d(kernel_size=2, stride=2),\n",
    "            nn.Conv2d(in_channels=16, out_channels=120, kernel_size=5),\n",
    "            nn.ReLU(inplace=True),\n",
    "        )\n",
    "        \n",
    "        self.fc1 = nn.Linear(in_features=120, out_features=84)\n",
    "        self.fc2 = nn.Linear(in_features=84, out_features=10)\n",
    "        \n",
    "    def forward(self, img):\n",
    "        X = self.convnet(img)\n",
    "        X = torch.flatten(X, start_dim=1)\n",
    "        X = self.fc1(X)\n",
    "        X = nn.functional.relu(X)\n",
    "        X = self.fc2(X)\n",
    "        return X"
   ]
  },
  {
   "cell_type": "markdown",
   "id": "b7fec666-dbf7-4f59-9907-dd6762ccbb10",
   "metadata": {},
   "source": [
    "### Model Pre-training\n",
    "\n",
    "In the next section, we will pre-train the model to recognize 0 - 8. If a trained model is already available, we should skip to the next section on rehearsals,"
   ]
  },
  {
   "cell_type": "code",
   "execution_count": 6,
   "id": "81491906-8186-474f-8844-00f3338f7355",
   "metadata": {
    "tags": []
   },
   "outputs": [],
   "source": [
    "# Setup training\n",
    "model = LeNet().to(device)\n",
    "criterion = torch.nn.CrossEntropyLoss()\n",
    "optimizer = torch.optim.SGD(model.parameters(), lr=0.001, momentum=0.9)"
   ]
  },
  {
   "cell_type": "code",
   "execution_count": 10,
   "id": "ec7c1ee3-0c4b-4bbb-899d-1e21caa3d9d7",
   "metadata": {
    "tags": []
   },
   "outputs": [
    {
     "data": {
      "application/vnd.jupyter.widget-view+json": {
       "model_id": "ff0698ac8b444600a4eb18adb579d225",
       "version_major": 2,
       "version_minor": 0
      },
      "text/plain": [
       "  0%|          | 0/30 [00:00<?, ?it/s]"
      ]
     },
     "metadata": {},
     "output_type": "display_data"
    },
    {
     "data": {
      "application/vnd.jupyter.widget-view+json": {
       "model_id": "4453bbd885344274959546396e57a609",
       "version_major": 2,
       "version_minor": 0
      },
      "text/plain": [
       "  0%|          | 0/845 [00:00<?, ?it/s]"
      ]
     },
     "metadata": {},
     "output_type": "display_data"
    },
    {
     "name": "stdout",
     "output_type": "stream",
     "text": [
      "Epoch: 0, Train loss: 2.248, Validation loss: 2.152, Validation error: 0.800\n"
     ]
    },
    {
     "data": {
      "application/vnd.jupyter.widget-view+json": {
       "model_id": "f510ae426fb244af8dff9eb914862179",
       "version_major": 2,
       "version_minor": 0
      },
      "text/plain": [
       "  0%|          | 0/845 [00:00<?, ?it/s]"
      ]
     },
     "metadata": {},
     "output_type": "display_data"
    },
    {
     "name": "stdout",
     "output_type": "stream",
     "text": [
      "Epoch: 1, Train loss: 1.060, Validation loss: 0.399, Validation error: 0.117\n"
     ]
    },
    {
     "data": {
      "application/vnd.jupyter.widget-view+json": {
       "model_id": "697f60ffcf8342458663fa78a1ec672d",
       "version_major": 2,
       "version_minor": 0
      },
      "text/plain": [
       "  0%|          | 0/845 [00:00<?, ?it/s]"
      ]
     },
     "metadata": {},
     "output_type": "display_data"
    },
    {
     "name": "stdout",
     "output_type": "stream",
     "text": [
      "Epoch: 2, Train loss: 0.357, Validation loss: 0.283, Validation error: 0.087\n"
     ]
    },
    {
     "data": {
      "application/vnd.jupyter.widget-view+json": {
       "model_id": "1a3ca1d1f73f4fb2ac6ca2bca9e67670",
       "version_major": 2,
       "version_minor": 0
      },
      "text/plain": [
       "  0%|          | 0/845 [00:00<?, ?it/s]"
      ]
     },
     "metadata": {},
     "output_type": "display_data"
    },
    {
     "name": "stdout",
     "output_type": "stream",
     "text": [
      "Epoch: 3, Train loss: 0.270, Validation loss: 0.225, Validation error: 0.069\n"
     ]
    },
    {
     "data": {
      "application/vnd.jupyter.widget-view+json": {
       "model_id": "6ba3ac93b5004db3b589ef271b9d3971",
       "version_major": 2,
       "version_minor": 0
      },
      "text/plain": [
       "  0%|          | 0/845 [00:00<?, ?it/s]"
      ]
     },
     "metadata": {},
     "output_type": "display_data"
    },
    {
     "name": "stdout",
     "output_type": "stream",
     "text": [
      "Epoch: 4, Train loss: 0.224, Validation loss: 0.183, Validation error: 0.056\n"
     ]
    },
    {
     "data": {
      "application/vnd.jupyter.widget-view+json": {
       "model_id": "a8a24a8372ee494abc0ebaf982222b7f",
       "version_major": 2,
       "version_minor": 0
      },
      "text/plain": [
       "  0%|          | 0/845 [00:00<?, ?it/s]"
      ]
     },
     "metadata": {},
     "output_type": "display_data"
    },
    {
     "name": "stdout",
     "output_type": "stream",
     "text": [
      "Epoch: 5, Train loss: 0.188, Validation loss: 0.168, Validation error: 0.050\n"
     ]
    },
    {
     "data": {
      "application/vnd.jupyter.widget-view+json": {
       "model_id": "be7fbbeb5315452c8b30be93aa096df2",
       "version_major": 2,
       "version_minor": 0
      },
      "text/plain": [
       "  0%|          | 0/845 [00:00<?, ?it/s]"
      ]
     },
     "metadata": {},
     "output_type": "display_data"
    },
    {
     "name": "stdout",
     "output_type": "stream",
     "text": [
      "Epoch: 6, Train loss: 0.164, Validation loss: 0.133, Validation error: 0.038\n"
     ]
    },
    {
     "data": {
      "application/vnd.jupyter.widget-view+json": {
       "model_id": "8e5dbaf90b7543e4972efdd416612db8",
       "version_major": 2,
       "version_minor": 0
      },
      "text/plain": [
       "  0%|          | 0/845 [00:00<?, ?it/s]"
      ]
     },
     "metadata": {},
     "output_type": "display_data"
    },
    {
     "name": "stdout",
     "output_type": "stream",
     "text": [
      "Epoch: 7, Train loss: 0.144, Validation loss: 0.119, Validation error: 0.036\n"
     ]
    },
    {
     "data": {
      "application/vnd.jupyter.widget-view+json": {
       "model_id": "f36475b2bb924184b9de1ef2f30434d2",
       "version_major": 2,
       "version_minor": 0
      },
      "text/plain": [
       "  0%|          | 0/845 [00:00<?, ?it/s]"
      ]
     },
     "metadata": {},
     "output_type": "display_data"
    },
    {
     "name": "stdout",
     "output_type": "stream",
     "text": [
      "Epoch: 8, Train loss: 0.133, Validation loss: 0.109, Validation error: 0.032\n"
     ]
    },
    {
     "data": {
      "application/vnd.jupyter.widget-view+json": {
       "model_id": "751169b2962a44c7818ff87698fd45d8",
       "version_major": 2,
       "version_minor": 0
      },
      "text/plain": [
       "  0%|          | 0/845 [00:00<?, ?it/s]"
      ]
     },
     "metadata": {},
     "output_type": "display_data"
    },
    {
     "name": "stdout",
     "output_type": "stream",
     "text": [
      "Epoch: 9, Train loss: 0.118, Validation loss: 0.114, Validation error: 0.034\n"
     ]
    },
    {
     "data": {
      "application/vnd.jupyter.widget-view+json": {
       "model_id": "f50c02cb42d64e88bb01b4ea9d64add2",
       "version_major": 2,
       "version_minor": 0
      },
      "text/plain": [
       "  0%|          | 0/845 [00:00<?, ?it/s]"
      ]
     },
     "metadata": {},
     "output_type": "display_data"
    },
    {
     "name": "stdout",
     "output_type": "stream",
     "text": [
      "Epoch: 10, Train loss: 0.111, Validation loss: 0.093, Validation error: 0.028\n"
     ]
    },
    {
     "data": {
      "application/vnd.jupyter.widget-view+json": {
       "model_id": "0f018358c2534b9b92f3092b0005b387",
       "version_major": 2,
       "version_minor": 0
      },
      "text/plain": [
       "  0%|          | 0/845 [00:00<?, ?it/s]"
      ]
     },
     "metadata": {},
     "output_type": "display_data"
    },
    {
     "name": "stdout",
     "output_type": "stream",
     "text": [
      "Epoch: 11, Train loss: 0.101, Validation loss: 0.106, Validation error: 0.032\n"
     ]
    },
    {
     "data": {
      "application/vnd.jupyter.widget-view+json": {
       "model_id": "20732857e0dd4bd585d57044589c575a",
       "version_major": 2,
       "version_minor": 0
      },
      "text/plain": [
       "  0%|          | 0/845 [00:00<?, ?it/s]"
      ]
     },
     "metadata": {},
     "output_type": "display_data"
    },
    {
     "name": "stdout",
     "output_type": "stream",
     "text": [
      "Epoch: 12, Train loss: 0.094, Validation loss: 0.085, Validation error: 0.025\n"
     ]
    },
    {
     "data": {
      "application/vnd.jupyter.widget-view+json": {
       "model_id": "b65dc52a01b04dd096415c33f686432a",
       "version_major": 2,
       "version_minor": 0
      },
      "text/plain": [
       "  0%|          | 0/845 [00:00<?, ?it/s]"
      ]
     },
     "metadata": {},
     "output_type": "display_data"
    },
    {
     "name": "stdout",
     "output_type": "stream",
     "text": [
      "Epoch: 13, Train loss: 0.088, Validation loss: 0.078, Validation error: 0.023\n"
     ]
    },
    {
     "data": {
      "application/vnd.jupyter.widget-view+json": {
       "model_id": "a59df03def5744efa6a09a1f05e8e4d7",
       "version_major": 2,
       "version_minor": 0
      },
      "text/plain": [
       "  0%|          | 0/845 [00:00<?, ?it/s]"
      ]
     },
     "metadata": {},
     "output_type": "display_data"
    },
    {
     "name": "stdout",
     "output_type": "stream",
     "text": [
      "Epoch: 14, Train loss: 0.083, Validation loss: 0.087, Validation error: 0.027\n"
     ]
    },
    {
     "data": {
      "application/vnd.jupyter.widget-view+json": {
       "model_id": "2d20f5d8f48248edb4aa9a15452b23db",
       "version_major": 2,
       "version_minor": 0
      },
      "text/plain": [
       "  0%|          | 0/845 [00:00<?, ?it/s]"
      ]
     },
     "metadata": {},
     "output_type": "display_data"
    },
    {
     "name": "stdout",
     "output_type": "stream",
     "text": [
      "Epoch: 15, Train loss: 0.077, Validation loss: 0.074, Validation error: 0.022\n"
     ]
    },
    {
     "data": {
      "application/vnd.jupyter.widget-view+json": {
       "model_id": "8b2a1c197c6e43e0bc3a9084a2e628ac",
       "version_major": 2,
       "version_minor": 0
      },
      "text/plain": [
       "  0%|          | 0/845 [00:00<?, ?it/s]"
      ]
     },
     "metadata": {},
     "output_type": "display_data"
    },
    {
     "name": "stdout",
     "output_type": "stream",
     "text": [
      "Epoch: 16, Train loss: 0.073, Validation loss: 0.079, Validation error: 0.023\n"
     ]
    },
    {
     "data": {
      "application/vnd.jupyter.widget-view+json": {
       "model_id": "49baf529f11649a6bdc5152a1c89cfca",
       "version_major": 2,
       "version_minor": 0
      },
      "text/plain": [
       "  0%|          | 0/845 [00:00<?, ?it/s]"
      ]
     },
     "metadata": {},
     "output_type": "display_data"
    },
    {
     "name": "stdout",
     "output_type": "stream",
     "text": [
      "Epoch: 17, Train loss: 0.069, Validation loss: 0.071, Validation error: 0.022\n"
     ]
    },
    {
     "data": {
      "application/vnd.jupyter.widget-view+json": {
       "model_id": "7570ed4601e94552a900a02a6e91e52f",
       "version_major": 2,
       "version_minor": 0
      },
      "text/plain": [
       "  0%|          | 0/845 [00:00<?, ?it/s]"
      ]
     },
     "metadata": {},
     "output_type": "display_data"
    },
    {
     "name": "stdout",
     "output_type": "stream",
     "text": [
      "Epoch: 18, Train loss: 0.066, Validation loss: 0.063, Validation error: 0.021\n"
     ]
    },
    {
     "data": {
      "application/vnd.jupyter.widget-view+json": {
       "model_id": "429812c24f8c4bfaa6e5526e694739c6",
       "version_major": 2,
       "version_minor": 0
      },
      "text/plain": [
       "  0%|          | 0/845 [00:00<?, ?it/s]"
      ]
     },
     "metadata": {},
     "output_type": "display_data"
    },
    {
     "name": "stdout",
     "output_type": "stream",
     "text": [
      "Epoch: 19, Train loss: 0.062, Validation loss: 0.067, Validation error: 0.021\n"
     ]
    },
    {
     "data": {
      "application/vnd.jupyter.widget-view+json": {
       "model_id": "b8d60d1521314172a925013ca92ddaca",
       "version_major": 2,
       "version_minor": 0
      },
      "text/plain": [
       "  0%|          | 0/845 [00:00<?, ?it/s]"
      ]
     },
     "metadata": {},
     "output_type": "display_data"
    },
    {
     "name": "stdout",
     "output_type": "stream",
     "text": [
      "Epoch: 20, Train loss: 0.058, Validation loss: 0.066, Validation error: 0.021\n"
     ]
    },
    {
     "data": {
      "application/vnd.jupyter.widget-view+json": {
       "model_id": "3746e71141d5434ebc62eac95bd4a6e2",
       "version_major": 2,
       "version_minor": 0
      },
      "text/plain": [
       "  0%|          | 0/845 [00:00<?, ?it/s]"
      ]
     },
     "metadata": {},
     "output_type": "display_data"
    },
    {
     "name": "stdout",
     "output_type": "stream",
     "text": [
      "Epoch: 21, Train loss: 0.056, Validation loss: 0.060, Validation error: 0.018\n"
     ]
    },
    {
     "data": {
      "application/vnd.jupyter.widget-view+json": {
       "model_id": "24b8ed724f7042e7ae66629a07e1fddb",
       "version_major": 2,
       "version_minor": 0
      },
      "text/plain": [
       "  0%|          | 0/845 [00:00<?, ?it/s]"
      ]
     },
     "metadata": {},
     "output_type": "display_data"
    },
    {
     "name": "stdout",
     "output_type": "stream",
     "text": [
      "Epoch: 22, Train loss: 0.054, Validation loss: 0.066, Validation error: 0.022\n"
     ]
    },
    {
     "data": {
      "application/vnd.jupyter.widget-view+json": {
       "model_id": "ce473b12a3a847dda11ce985f8f35d53",
       "version_major": 2,
       "version_minor": 0
      },
      "text/plain": [
       "  0%|          | 0/845 [00:00<?, ?it/s]"
      ]
     },
     "metadata": {},
     "output_type": "display_data"
    },
    {
     "name": "stdout",
     "output_type": "stream",
     "text": [
      "Epoch: 23, Train loss: 0.051, Validation loss: 0.058, Validation error: 0.018\n"
     ]
    },
    {
     "data": {
      "application/vnd.jupyter.widget-view+json": {
       "model_id": "5136f5adf44a4021b6ec2ca9cc0dac19",
       "version_major": 2,
       "version_minor": 0
      },
      "text/plain": [
       "  0%|          | 0/845 [00:00<?, ?it/s]"
      ]
     },
     "metadata": {},
     "output_type": "display_data"
    },
    {
     "name": "stdout",
     "output_type": "stream",
     "text": [
      "Epoch: 24, Train loss: 0.049, Validation loss: 0.053, Validation error: 0.017\n"
     ]
    },
    {
     "data": {
      "application/vnd.jupyter.widget-view+json": {
       "model_id": "75fba5e8deaf40719194ce3fd64c2e4f",
       "version_major": 2,
       "version_minor": 0
      },
      "text/plain": [
       "  0%|          | 0/845 [00:00<?, ?it/s]"
      ]
     },
     "metadata": {},
     "output_type": "display_data"
    },
    {
     "name": "stdout",
     "output_type": "stream",
     "text": [
      "Epoch: 25, Train loss: 0.047, Validation loss: 0.055, Validation error: 0.017\n"
     ]
    },
    {
     "data": {
      "application/vnd.jupyter.widget-view+json": {
       "model_id": "3dcbb017c1334558b7d273331bcb7578",
       "version_major": 2,
       "version_minor": 0
      },
      "text/plain": [
       "  0%|          | 0/845 [00:00<?, ?it/s]"
      ]
     },
     "metadata": {},
     "output_type": "display_data"
    },
    {
     "name": "stdout",
     "output_type": "stream",
     "text": [
      "Epoch: 26, Train loss: 0.045, Validation loss: 0.052, Validation error: 0.017\n"
     ]
    },
    {
     "data": {
      "application/vnd.jupyter.widget-view+json": {
       "model_id": "f61797fb02f94dce9e783d3bc987cc7d",
       "version_major": 2,
       "version_minor": 0
      },
      "text/plain": [
       "  0%|          | 0/845 [00:00<?, ?it/s]"
      ]
     },
     "metadata": {},
     "output_type": "display_data"
    },
    {
     "name": "stdout",
     "output_type": "stream",
     "text": [
      "Epoch: 27, Train loss: 0.044, Validation loss: 0.049, Validation error: 0.014\n"
     ]
    },
    {
     "data": {
      "application/vnd.jupyter.widget-view+json": {
       "model_id": "1476c8cfa66f487fb126fa68bd92829d",
       "version_major": 2,
       "version_minor": 0
      },
      "text/plain": [
       "  0%|          | 0/845 [00:00<?, ?it/s]"
      ]
     },
     "metadata": {},
     "output_type": "display_data"
    },
    {
     "name": "stdout",
     "output_type": "stream",
     "text": [
      "Epoch: 28, Train loss: 0.042, Validation loss: 0.048, Validation error: 0.015\n"
     ]
    },
    {
     "data": {
      "application/vnd.jupyter.widget-view+json": {
       "model_id": "20fb5ee962b24a0986ee80dd65da96eb",
       "version_major": 2,
       "version_minor": 0
      },
      "text/plain": [
       "  0%|          | 0/845 [00:00<?, ?it/s]"
      ]
     },
     "metadata": {},
     "output_type": "display_data"
    },
    {
     "name": "stdout",
     "output_type": "stream",
     "text": [
      "Epoch: 29, Train loss: 0.041, Validation loss: 0.049, Validation error: 0.016\n"
     ]
    }
   ],
   "source": [
    "# Epoch Training\n",
    "num_epochs = 30\n",
    "\n",
    "best_verror = 1_000_000\n",
    "\n",
    "for epoch in tqdm(range(num_epochs)):\n",
    "    \n",
    "    # Inner training loop\n",
    "    avg_loss = train_epoch(\n",
    "        model, train_loader,\n",
    "        optimizer=optimizer,\n",
    "        criterion=criterion,\n",
    "        device=device\n",
    "    )\n",
    "    \n",
    "    # Inner validation loop\n",
    "    avg_vloss, avg_verror = validate(\n",
    "        model, val_loader, criterion=criterion, device=device)\n",
    "    \n",
    "    if avg_verror < best_verror:\n",
    "        best_verror = avg_verror\n",
    "        torch.save(model.state_dict(), \"best-model.pth\")\n",
    "        \n",
    "    tqdm.write(\n",
    "        f\"Epoch: {epoch}, \" \\\n",
    "        f\"Train loss: {avg_loss:.3f}, \" \\\n",
    "        f\"Validation loss: {avg_vloss:.3f}, \" \\\n",
    "        f\"Validation error: {avg_verror:.3f}\"\n",
    "    )"
   ]
  },
  {
   "cell_type": "markdown",
   "id": "6f2c42bd-a1ea-4989-8795-2248e27c6ee4",
   "metadata": {
    "jupyter": {
     "outputs_hidden": true
    }
   },
   "source": [
    "## Pseudo-Rehearsals\n",
    "\n",
    "In pseudorehearsals, the new intervening data will be batched with randomly generated data. The target labels of the randomly generated data are generated by the model in the forward pass. In pseudo-rehearsal mechanism, we then backpropagate this batch as though it is a full dataset. The hope is that the randomly generated data and model generated labels will capture the function representation that was best describing the original training set. This mechanism has the advantage over rehearsal methods when the previous trained data are not available."
   ]
  },
  {
   "cell_type": "code",
   "execution_count": 6,
   "id": "42e5fe7e-d82c-4060-8aac-fa159940550e",
   "metadata": {},
   "outputs": [
    {
     "data": {
      "text/plain": [
       "Dataset CFMNIST\n",
       "    Number of datapoints: 5949\n",
       "    Root location: .\n",
       "    Split: Train\n",
       "    StandardTransform\n",
       "Transform: Compose(\n",
       "               ToTensor()\n",
       "               Pad(padding=2, fill=0, padding_mode=constant)\n",
       "           )"
      ]
     },
     "execution_count": 6,
     "metadata": {},
     "output_type": "execute_result"
    }
   ],
   "source": [
    "newtrainset = CFMNIST(\".\", download=True, transform=transforms, holdout=False)\n",
    "newtrainset"
   ]
  },
  {
   "cell_type": "code",
   "execution_count": 7,
   "id": "f0f39e16-a0ee-4c81-b1e6-b0d177a94f86",
   "metadata": {},
   "outputs": [],
   "source": [
    "newtrainloader = torch.utils.data.DataLoader(\n",
    "                    newtrainset, \n",
    "                    batch_size=8, \n",
    "                    shuffle=True,\n",
    "                    num_workers=1\n",
    "                )"
   ]
  },
  {
   "cell_type": "code",
   "execution_count": 8,
   "id": "cfd6d717-2fae-4bc2-bf9c-a351d8791cd3",
   "metadata": {},
   "outputs": [],
   "source": [
    "# Initialize and load the pre-trained model\n",
    "model = LeNet()\n",
    "model.load_state_dict(torch.load(\"best-model.pth\"))\n",
    "model = model.to(device)\n",
    "criterion = torch.nn.CrossEntropyLoss()\n",
    "optimizer = torch.optim.SGD(model.parameters(), lr=0.001, momentum=0.9)"
   ]
  },
  {
   "cell_type": "code",
   "execution_count": 9,
   "id": "2943ddb1-b5b3-4790-b65a-ed0a79d94ea0",
   "metadata": {},
   "outputs": [],
   "source": [
    "# Rehearsal is like a epoch training loop.\n",
    "# We only batch the data differently.\n",
    "# This loop is slowed down due to the inner validation loop.\n",
    "def pseudo_rehearse(\n",
    "        model, trainloader,\n",
    "        optimizer=None,\n",
    "        criterion=torch.nn.CrossEntropyLoss(),\n",
    "        device=torch.device(\"cpu\"),\n",
    "        factor=3\n",
    "    ):\n",
    "    \n",
    "    running_loss = []\n",
    "    running_vloss = []\n",
    "    running_verror = []\n",
    "    \n",
    "    data_size = len(trainloader)\n",
    "\n",
    "    if not optimizer:\n",
    "        # Default optimizer if one is not provided\n",
    "        optimizer = torch.optim.SGD(model.parameters(), lr=0.001, momentum=0.9)\n",
    "    \n",
    "    for i, data in tqdm(enumerate(trainloader), total=data_size):\n",
    "        # Load the new data in minibatch\n",
    "        imgs, labels = data\n",
    "        n, c, H, W = imgs.size()\n",
    "        \n",
    "        # Generate random tensors for pseudo rehearsals\n",
    "        # Note, in future it might be better to train on logits\n",
    "        # instead of labels. Also need to solve why all labels are 8\n",
    "        rand_imgs = torch.rand(n * factor, c, H, W)\n",
    "        rand_logits = model(rand_imgs.to(device))\n",
    "        rand_labels = torch.argmax(torch.softmax(rand_logits, dim=1), dim=1)\n",
    "        imgs = torch.cat((imgs, rand_imgs), dim=0)\n",
    "        labels = torch.cat((labels.to(device), rand_labels))\n",
    "        \n",
    "        # Shuffle the data and labels\n",
    "        indices = torch.randperm(len(labels))\n",
    "        imgs = imgs[indices]\n",
    "        labels = labels[indices]\n",
    "        \n",
    "        optimizer.zero_grad()\n",
    "        \n",
    "        # Forward pass\n",
    "        outputs = model(imgs.to(device))\n",
    "        \n",
    "        # Compute loss and backpropagate error gradients\n",
    "        loss = criterion(outputs, labels)\n",
    "        loss.backward()\n",
    "        \n",
    "        # Collate training loss\n",
    "        running_loss.append(loss.item())\n",
    "        \n",
    "        vloss, verror = validate(model, val_loader, criterion=criterion, device=device)\n",
    "        running_vloss.append(vloss)\n",
    "        running_verror.append(verror)\n",
    "        \n",
    "        # Gradient descent\n",
    "        optimizer.step()\n",
    "        \n",
    "    return running_loss, running_vloss, running_verror"
   ]
  },
  {
   "cell_type": "code",
   "execution_count": 10,
   "id": "bb42c035-cd5a-415c-b4b8-9d2d6a2bc770",
   "metadata": {},
   "outputs": [
    {
     "data": {
      "application/vnd.jupyter.widget-view+json": {
       "model_id": "5ed28c389f784da4801064ed3e36ece5",
       "version_major": 2,
       "version_minor": 0
      },
      "text/plain": [
       "  0%|          | 0/744 [00:00<?, ?it/s]"
      ]
     },
     "metadata": {},
     "output_type": "display_data"
    }
   ],
   "source": [
    "# Pseudo Rehearsal\n",
    "loss, vloss, verror = pseudo_rehearse(model, newtrainloader, optimizer=optimizer, criterion=criterion, device=device)"
   ]
  },
  {
   "cell_type": "code",
   "execution_count": 12,
   "id": "c9e58689-286d-42f1-89ee-872273b04f4d",
   "metadata": {},
   "outputs": [
    {
     "data": {
      "text/plain": [
       "[<matplotlib.lines.Line2D at 0x7fa1f77f1d50>]"
      ]
     },
     "execution_count": 12,
     "metadata": {},
     "output_type": "execute_result"
    },
    {
     "data": {
      "image/png": "[encoded data removed]",
      "text/plain": [
       "<Figure size 432x288 with 1 Axes>"
      ]
     },
     "metadata": {
      "needs_background": "light"
     },
     "output_type": "display_data"
    }
   ],
   "source": [
    "from matplotlib import pyplot as plt\n",
    "\n",
    "plt.plot(vloss)"
   ]
  },
  {
   "cell_type": "code",
   "execution_count": 13,
   "id": "cd575e56-b0c1-48c7-8460-1e4b2980a3d0",
   "metadata": {},
   "outputs": [
    {
     "data": {
      "text/plain": [
       "[<matplotlib.lines.Line2D at 0x7fa1f76b2980>]"
      ]
     },
     "execution_count": 13,
     "metadata": {},
     "output_type": "execute_result"
    },
    {
     "data": {
      "image/png": "[encoded data removed]",
      "text/plain": [
       "<Figure size 432x288 with 1 Axes>"
      ]
     },
     "metadata": {
      "needs_background": "light"
     },
     "output_type": "display_data"
    }
   ],
   "source": [
    "plt.plot(verror)"
   ]
  },
  {
   "cell_type": "markdown",
   "id": "1b86d1a8-5fe0-472f-90df-f5973eb465d2",
   "metadata": {},
   "source": [
    "## Discussion\n",
    "\n",
    "I think pseudorehearsal doesn't work well because this model is poorly calibrated. All pseudo samples are classified as the digit 8. This work should further emphasize the importance of calibration."
   ]
  }
 ],
 "metadata": {
  "kernelspec": {
   "display_name": "Python 3 (ipykernel)",
   "language": "python",
   "name": "python3"
  },
  "language_info": {
   "codemirror_mode": {
    "name": "ipython",
    "version": 3
   },
   "file_extension": ".py",
   "mimetype": "text/x-python",
   "name": "python",
   "nbconvert_exporter": "python",
   "pygments_lexer": "ipython3",
   "version": "3.10.4"
  }
 },
 "nbformat": 4,
 "nbformat_minor": 5
}
