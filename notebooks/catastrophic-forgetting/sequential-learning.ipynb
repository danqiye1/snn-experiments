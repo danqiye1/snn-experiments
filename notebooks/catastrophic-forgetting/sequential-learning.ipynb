{
 "cells": [
  {
   "cell_type": "markdown",
   "metadata": {},
   "source": [
    "# Catastrophic Forgetting in Sequential\n",
    "\n",
    "## Introduction\n",
    "\n",
    "The phenomenon of catastrophic forgetting, or catastrophic interference, was first observed by McCloskey and Cohen (1989). It is especially salient in online learning, where training data is fed sequentially to a machine learning model for training. In this notebook, we will explore the effects of catastrophic interference in the PES learning rule on MNIST data."
   ]
  },
  {
   "cell_type": "code",
   "execution_count": null,
   "metadata": {},
   "outputs": [],
   "source": [
    "import nengo\n",
    "import nengo_dl\n",
    "import numpy as np\n",
    "import tensorflow as tf\n",
    "from PIL import Image\n",
    "from nengo_extras.gui import image_display_function\n",
    "from nengo_extras.vision import Gabor, Mask\n",
    "from nengo_extras.data import one_hot_from_labels\n",
    "from nengo.utils.filter_design import cont2discrete\n",
    "from nengo_gui.ipython import IPythonViz\n"
   ]
  },
  {
   "cell_type": "markdown",
   "metadata": {},
   "source": [
    "## MNIST Digit Recognition\n",
    "\n",
    "We will experiment on catastrophic interference with MNIST."
   ]
  },
  {
   "cell_type": "code",
   "execution_count": null,
   "metadata": {},
   "outputs": [],
   "source": [
    "(X_train, y_train), (X_test, y_test) = tf.keras.datasets.mnist.load_data()\n",
    "n_train, height, width = X_train.shape\n",
    "n_test = len(y_test)\n",
    "n_classes = len(np.unique(y_train))"
   ]
  },
  {
   "cell_type": "code",
   "execution_count": null,
   "metadata": {},
   "outputs": [],
   "source": [
    "Image.fromarray(X_train[0]) \\\n",
    "    .resize((height * 5, width * 5)) \\\n",
    "    .show()\n",
    "\n",
    "print(f\"Label: {y_train[0]}\")\n",
    "print(f\"Max Pixel Val: {np.max(X_train[0])}\")\n",
    "print(f\"Min Pixel Val: {np.min(X_train[0])}\")"
   ]
  },
  {
   "cell_type": "code",
   "execution_count": null,
   "metadata": {},
   "outputs": [],
   "source": [
    "# Batch preprocess the data into unit vector.\n",
    "def preprocess(X):\n",
    "    X = X.reshape(len(X), -1)\n",
    "    X = X - X.mean(axis=1, keepdims=True)\n",
    "    return X / np.linalg.norm(X, axis=1, keepdims=True)"
   ]
  },
  {
   "cell_type": "code",
   "execution_count": null,
   "metadata": {},
   "outputs": [],
   "source": [
    "# Preprocessing and One hot encode\n",
    "X_train = preprocess(X_train)\n",
    "y_train = one_hot_from_labels(y_train)\n",
    "X_test = preprocess(X_test)\n",
    "y_test = one_hot_from_labels(y_test)"
   ]
  },
  {
   "cell_type": "markdown",
   "metadata": {},
   "source": [
    "## Neural Network\n",
    "\n",
    "We build a 2 ensemble neural network with Nengo, and set the learning with PES learning rule."
   ]
  },
  {
   "cell_type": "code",
   "execution_count": null,
   "metadata": {},
   "outputs": [],
   "source": [
    "# Some network configuration hyperparameters\n",
    "input_display_time = 1\n",
    "n_neurons = 5000"
   ]
  },
  {
   "cell_type": "markdown",
   "metadata": {},
   "source": [
    "Neural networks in Nengo are fixed-encoding networks, whereby the encoders are fixed to a certain randomly generated value. Previous research has shown that Gabor filters best extracts the features of an image. Unlike in deep learning, where these Gabor filters are derived from backpropagation, we can only generate these Gabor filters randomly because backpropagation cannot be used in fixed-encoding SNN."
   ]
  },
  {
   "cell_type": "code",
   "execution_count": null,
   "metadata": {},
   "outputs": [],
   "source": [
    "# Generate the encoders for the neural ensemble\n",
    "gabor_size = (11, 11)\n",
    "# Set the rng state (using a fixed seed that works)\n",
    "rng = np.random.RandomState(9)\n",
    "encoders = Gabor().generate(n_neurons, gabor_size, rng=rng)\n",
    "encoders = Mask((height, width)).populate(encoders, rng=rng, flatten=True)"
   ]
  },
  {
   "cell_type": "code",
   "execution_count": null,
   "metadata": {},
   "outputs": [],
   "source": [
    "from matplotlib import pyplot as plt\n",
    "plt.imshow(encoders[1].reshape(28,28), cmap=\"gray\")"
   ]
  },
  {
   "cell_type": "markdown",
   "metadata": {},
   "source": [
    "Below is the nengo model rendered as an interactive demo in Nengo GUI. You can see the effects of catastrophic forgetting when you inhibit the learning by moving the slider of inhibitor to 1 (Wait for 30s for the simulation to run and learn)"
   ]
  },
  {
   "cell_type": "code",
   "execution_count": null,
   "metadata": {},
   "outputs": [],
   "source": [
    "with nengo.Network(seed=3) as model:\n",
    "\n",
    "    input_node = nengo.Node(\n",
    "        nengo.processes.PresentInput(X_train, input_display_time),\n",
    "        label=\"Input\"\n",
    "    )\n",
    "\n",
    "    # Pre-synaptic ensemble\n",
    "    pre_ens = nengo.Ensemble(\n",
    "        n_neurons=n_neurons,\n",
    "        dimensions=height * width,\n",
    "        radius=1\n",
    "    )\n",
    "    \n",
    "    nengo.Connection(input_node, pre_ens)\n",
    "    \n",
    "    post_ens = nengo.Ensemble(\n",
    "        n_neurons=30*n_classes,\n",
    "        dimensions=n_classes,\n",
    "        radius=5\n",
    "    )\n",
    "    \n",
    "    # Connection with synapse weight to be learned by PES\n",
    "    # Weights are randomly initialized\n",
    "    conn = nengo.Connection(\n",
    "        pre_ens, post_ens,\n",
    "        learning_rule_type=nengo.PES(),\n",
    "        transform=np.random.rand(n_classes, width*height)\n",
    "    )\n",
    "    \n",
    "    # Error signal representation\n",
    "    error = nengo.Ensemble(\n",
    "        n_neurons=30 * n_classes,\n",
    "        dimensions=n_classes,\n",
    "        radius=5\n",
    "    )\n",
    "    \n",
    "    gt_node = nengo.Node(\n",
    "        nengo.processes.PresentInput(y_train, input_display_time),\n",
    "        label=\"Ground Truth\"\n",
    "    )\n",
    "    nengo.Connection(post_ens, error)\n",
    "    nengo.Connection(gt_node, error, transform=-1)\n",
    "    nengo.Connection(error, conn.learning_rule)\n",
    "    \n",
    "    # Input image display (for nengo_gui)\n",
    "    image_shape = (1, 28, 28)\n",
    "    display_func = image_display_function(image_shape, offset=1, scale=128)\n",
    "    display_node = nengo.Node(display_func, size_in=input_node.size_out)\n",
    "    nengo.Connection(input_node, display_node, synapse=None)\n",
    "    \n",
    "    # Error inhibition control\n",
    "    inhibitor = nengo.Node([0])\n",
    "    nengo.Connection(\n",
    "        inhibitor, error.neurons, \n",
    "        transform=-100*np.ones((error.n_neurons, 1))\n",
    "    )"
   ]
  },
  {
   "cell_type": "markdown",
   "metadata": {},
   "source": [
    "You should see that once inhibitor is turned on, the neural network stops learning and just predicts everything as the predicted label of the last seen sample. This means that the last seen sample before inhibition has turned on has caused catastrophic forgetting in the synapse weights between pre-synaptic and post-synaptic neuron ensemble. This needs to be mitigated."
   ]
  },
  {
   "cell_type": "markdown",
   "metadata": {},
   "source": [
    "## Discussion\n",
    "\n",
    "We have seen the effects of catastrophic forgetting on neural networks in both a sequential learning scenario and a offline batch learning scenario. After seeing that such a phenomenon happens, we can move to try and resolve this problem."
   ]
  },
  {
   "cell_type": "markdown",
   "metadata": {},
   "source": [
    "## Legendre Memory Units\n",
    "\n",
    "LMUs is a type of recurrent neural network cell that aims to implement a perfect delay. It was first published by Volker, Kajic and Eliasmith (NeurIPs 2019) and has been shown to beat LSTMs on psMNIST dataset.\n",
    "\n",
    "<img src=\"https://i.imgur.com/IJGUVg6.png\" alt=\"drawing\" width=\"500\"/>"
   ]
  },
  {
   "cell_type": "code",
   "execution_count": null,
   "metadata": {},
   "outputs": [],
   "source": [
    "class LMUCell(nengo.Network):\n",
    "    \"\"\" Legendre Memory Unit \"\"\"\n",
    "    \n",
    "    def __init__(self, units, order, theta, input_d, **kwargs):\n",
    "        \"\"\" Constructor for LMU\n",
    "        \n",
    "        :param units:\n",
    "        :param order: The order of Lengendre Polynomials to use.\n",
    "        :param theta: Delay amount defining the sliding window from [t-theta, t]. \n",
    "                Can also be interpreted as length of time window.\n",
    "        :param input_d: Dimension of input signal X\n",
    "        \"\"\"\n",
    "        super().__init__(**kwargs)\n",
    "        \n",
    "        # Compute the analytically derived weight matrices used in LMU\n",
    "        # These are determined statistically based on the theta/order parameters.\n",
    "        Q = np.arange(order, dtype=np.float64)\n",
    "        R = (2 * Q + 1)[:, None] / theta\n",
    "        j, i = np.mesgrid(Q, Q)\n",
    "        \n",
    "        A = np.where(i < j, -1, (-1, 0) ** (i - j + 1) * R)\n",
    "        B = (-1.0) ** Q[:, None] * R\n",
    "        C = np.ones((1, order))\n",
    "        D = np.zeros((1,))\n",
    "        \n",
    "        A, B, _, _, _ = cont2discrete((A, B, C, D), dt=1.0, method=\"zoh\")\n",
    "        \n",
    "        with self:\n",
    "            nengo_dl.configure_settings(trainable=None)\n",
    "            \n",
    "            # Create objects corresponding to x/u/m/h variables of LMU cell\n",
    "            # There is a bit of notational change compared to X and U in NEF\n",
    "            # self.u is the input as seen by the dynamical system, self.m is the state from previous time,\n",
    "            # self.x is our actual data input.\n",
    "            self.x = nengo.Node(size_in=input_d)\n",
    "            self.u = nengo.Node(size_in=1)\n",
    "            self.m = nengo.Node(size_in=order)\n",
    "            self.h = nengo_dl.TensorNode(tf.nn.tanh, shape_in(units,), pass_time=False)\n",
    "            \n",
    "            # Compute u_t in the LMU cell. We have removed e_h and e_m as they are not needed in\n",
    "            # the psMNIST task. e_x is trainable, but initialized to np.ones instead of nengo_dl.dists.Glorot()\n",
    "            nengo.Connection(\n",
    "                self.x, self.u, transform=np.ones((1, input_d), synapse=None)\n",
    "            )\n",
    "            \n",
    "            # Compute m_t\n",
    "            # In this implementation we'll make A and B non-trainable, but they\n",
    "            # can also be optimized in the same way as other parameters. Note\n",
    "            # that setting synapse=0 (versus synapse=None) adds a one-timestep\n",
    "            # delay, so we can think of any connections with synapse=0 as representing\n",
    "            # value_{t-1}\n",
    "            conn_A = nengo.Connection(self.m, self.m, transform=A, synapse=0)\n",
    "            self.config[conn_A].trainable = False\n",
    "            conn_B = nengo.Connection(self.u, self.m, transform=B, synapse=None)\n",
    "            self.config[conn_B].trainable = False\n",
    "            \n",
    "            # Compute h_t\n",
    "            nengo.Connection(\n",
    "                # This is the W_x connection\n",
    "                self.x, self.h, transform=nengo_dl.dists.Glorot(), synapse=None\n",
    "            )\n",
    "            nengo.Connection(\n",
    "                # This is the W_h connection\n",
    "                self.h, self.h, transform=nengo_dl.dists.Glorot(), synapse=0\n",
    "            )\n",
    "            nengo.Connection(\n",
    "                # This is the W_m connection\n",
    "                self.m, self.h, transform=nengo_dl.dists.Glorot(), synapse=None\n",
    "            )\n",
    "            "
   ]
  },
  {
   "cell_type": "markdown",
   "metadata": {},
   "source": [
    "In the above code, conn_A and conn_B "
   ]
  }
 ],
 "metadata": {
  "kernelspec": {
   "display_name": "Python 3 (ipykernel)",
   "language": "python",
   "name": "python3"
  },
  "language_info": {
   "codemirror_mode": {
    "name": "ipython",
    "version": 3
   },
   "file_extension": ".py",
   "mimetype": "text/x-python",
   "name": "python",
   "nbconvert_exporter": "python",
   "pygments_lexer": "ipython3",
   "version": "3.10.4"
  },
  "vscode": {
   "interpreter": {
    "hash": "4f825a7779788a986c27e7823a77f1855f67620297db03dc100c0d5786b7a94d"
   }
  }
 },
 "nbformat": 4,
 "nbformat_minor": 4
}
